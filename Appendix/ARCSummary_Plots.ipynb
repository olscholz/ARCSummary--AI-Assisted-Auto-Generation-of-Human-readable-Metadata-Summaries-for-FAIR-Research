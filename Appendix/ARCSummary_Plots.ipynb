{
 "cells": [
  {
   "cell_type": "code",
   "execution_count": 20,
   "id": "5a753986",
   "metadata": {
    "language_info": {
     "name": "polyglot-notebook"
    },
    "polyglot_notebook": {
     "kernelName": "fsharp"
    }
   },
   "outputs": [
    {
     "data": {
      "text/html": [
       "<div><div></div><div></div><div><strong>Installed Packages</strong><ul><li><span>BioFSharp, 1.2.0</span></li><li><span>BioFSharp.IO, 2.0.0-preview.3</span></li><li><span>Deedle.Interactive, 3.0.0</span></li><li><span>FSharp.Stats.Interactive, 0.6.0</span></li><li><span>Plotly.NET, 6.0.0-preview.1</span></li><li><span>Plotly.NET.Interactive, 6.0.0-preview.1</span></li></ul></div></div>"
      ]
     },
     "metadata": {},
     "output_type": "display_data"
    }
   ],
   "source": [
    "// Dependencies\n",
    "\n",
    "#r \"nuget: Plotly.NET, 6.0.0-preview.1\"\n",
    "#r \"nuget: Plotly.NET.Interactive, 6.0.0-preview.1\"\n",
    "#r \"nuget: FSharp.Stats.Interactive, 0.6.0\"\n",
    "#r \"nuget: BioFSharp, 1.2.0\"\n",
    "#r \"nuget: BioFSharp.IO, 2.0.0-preview.3\"\n",
    "#r \"nuget: Deedle.Interactive, 3.0.0\""
   ]
  },
  {
   "cell_type": "code",
   "execution_count": 21,
   "id": "f7e63fdf",
   "metadata": {
    "language_info": {
     "name": "polyglot-notebook"
    },
    "polyglot_notebook": {
     "kernelName": "fsharp"
    }
   },
   "outputs": [],
   "source": [
    "open Plotly.NET \n",
    "open Plotly.NET.Interactive\n",
    "open Plotly.NET.StyleParam\n",
    "open FSharp.Stats.Interactive\n",
    "open BioFSharp\n",
    "open BioFSharp.IO\n",
    "open Deedle\n",
    "open FSharp.Stats.SeqExtension"
   ]
  },
  {
   "cell_type": "code",
   "execution_count": 90,
   "id": "d64c9289",
   "metadata": {
    "language_info": {
     "name": "polyglot-notebook"
    },
    "polyglot_notebook": {
     "kernelName": "fsharp"
    }
   },
   "outputs": [],
   "source": [
    "\n",
    "\n",
    "let getBasicBP (data : list<string * string * list<float>>) (subplotId:int) =\n",
    "    data\n",
    "    |> List.map(fun (label, color, values) ->\n",
    "        Chart.BoxPlot(\n",
    "            Y = values, \n",
    "            BoxPoints = BoxPoints.All, \n",
    "            Jitter = 0.8, \n",
    "            Notched = true ,\n",
    "            Marker = TraceObjects.Marker.init(Color=Color.fromString color, Size = 10),\n",
    "            BoxMean = BoxMean.SD,\n",
    "            Name = label)\n",
    "        |> GenericChart.mapTrace(fun t -> \n",
    "            t?BoxPoints <- \"all\"\n",
    "            t?fillcolor <- \"rgba(0,0,0,0)\"\n",
    "            t?line <- {| color = \"rgba(0,0,0,0)\"|}\n",
    "            t\n",
    "        )   \n",
    "    )\n",
    "\n",
    "\n"
   ]
  },
  {
   "cell_type": "code",
   "execution_count": 91,
   "id": "7c9ab41d",
   "metadata": {
    "language_info": {
     "name": "polyglot-notebook"
    },
    "polyglot_notebook": {
     "kernelName": "fsharp"
    }
   },
   "outputs": [],
   "source": [
    "\n",
    "let getBasicPC  (data : list<string * string * list<float>>) (subplotId:int) = \n",
    "    data \n",
    "    |> List.map(fun (label, color, values) ->\n",
    "        let avg = List.average values \n",
    "        let stdDev = Seq.stDev values\n",
    "        Chart.Point(x = [label], y = [avg], ShowLegend = false, Marker = TraceObjects.Marker.init(Color = Color.fromString color, Symbol = MarkerSymbol.Diamond, Size = 10 ))\n",
    "        |> Chart.withAnnotation(LayoutObjects.Annotation.init(Text = $\"{avg:F4}\", X = label, Y = avg + 0.04, XShift = 7, ShowArrow = false) )\n",
    "    )\n"
   ]
  },
  {
   "cell_type": "code",
   "execution_count": null,
   "id": "aaef7809",
   "metadata": {
    "language_info": {
     "name": "polyglot-notebook"
    },
    "polyglot_notebook": {
     "kernelName": "fsharp"
    }
   },
   "outputs": [
    {
     "ename": "Error",
     "evalue": "input.fsx (22,31)-(22,59) typecheck error This value is not a function and cannot be applied.\ninput.fsx (22,77)-(22,105) typecheck error This value is not a function and cannot be applied.\ninput.fsx (23,31)-(23,61) typecheck error This value is not a function and cannot be applied.\ninput.fsx (23,82)-(23,112) typecheck error This value is not a function and cannot be applied.\ninput.fsx (24,31)-(24,60) typecheck error This value is not a function and cannot be applied.\ninput.fsx (24,79)-(24,108) typecheck error This value is not a function and cannot be applied.",
     "output_type": "error",
     "traceback": [
      "input.fsx (22,31)-(22,59) typecheck error This value is not a function and cannot be applied.\n",
      "input.fsx (22,77)-(22,105) typecheck error This value is not a function and cannot be applied.\n",
      "input.fsx (23,31)-(23,61) typecheck error This value is not a function and cannot be applied.\n",
      "input.fsx (23,82)-(23,112) typecheck error This value is not a function and cannot be applied.\n",
      "input.fsx (24,31)-(24,60) typecheck error This value is not a function and cannot be applied.\n",
      "input.fsx (24,79)-(24,108) typecheck error This value is not a function and cannot be applied."
     ]
    }
   ],
   "source": [
    "let relevanceBP = [0.7; 0.3; 1; 0.7; 1; 0.7; 1; 0.7]\n",
    "let relevanceEP = [0.7; 0.3; 1; 1; 1; 0.7; 1; 0.7]\n",
    "let relevanceHP = [0.3; 0.7; 1; 0.3; 0.7; 0.7; 0.7; 1]\n",
    "\n",
    "let coherenceBP = [0.7;0.7;1;1;0.7;1;1;0.7]\n",
    "let coherenceEP = [0.7;0.7;1;0.7;0.7;1;1;0.7]\n",
    "let coherenceHP = [0.7;1;0.7;0.7;0.7;1;1;1]\n",
    "\n",
    "let facConBP = [0.3;0.3;1;0.7;1;1;1;0.7]\n",
    "let facConEP = [1.0;0.7;1;0.7;0.7;1;0.3;0.7]\n",
    "let facConHP = [0.3;1;1;0.7;0.7;0.7;1;1]\n",
    "\n",
    "let fluencyBP = [0.7;0.7;1;0.7;1;1;1;0.7]\n",
    "let fluencyEP = [1.0;0.7;1;1;1;1;0.7;0.7]\n",
    "let fluencyHP = [0.7;0.7;1;1;0.3;1;1;0.7]\n",
    "\n",
    "let dataRelevance =\n",
    "    [ \"Basic Prompt\", \"#e41a1c\", relevanceBP\n",
    "      \"Enhanced Prompt\", \"#4daf4a\", relevanceEP\n",
    "      \"Hybrid Prompt\", \"#377eb8\", relevanceHP ]\n",
    "\n",
    "// let combBBP = Chart.combine([(getBasicBP relevanceBP \"red\" \"Basic Prompt\");(getBasicPC relevanceBP \"red\" \"Basic Prompt\")])\n",
    "// let combEBP = Chart.combine([(getBasicBP relevanceEP \"green\" \"Enhanced Prompt\");(getBasicPC relevanceEP \"green\" \"Enhanced Prompt\")])\n",
    "// let combHBP = Chart.combine([(getBasicBP relevanceHP \"blue\" \"Hybrid Prompt\");(getBasicPC relevanceHP \"blue\" \"Hybrid Prompt\")])\n",
    "\n",
    "\n",
    "\n",
    "let yAxis =\n",
    "    LayoutObjects.LinearAxis.init(\n",
    "        Range = Range.MinMax(0, 1.2),\n",
    "        Tick0 = 0.0,\n",
    "        DTick = 0.15,\n",
    "        ShowGrid = true,\n",
    "        GridColor = Color.fromString \"#e0e0e0\",\n",
    "        Title = Title.init(Text = \"Relevance\", Font = Font.init(Size = 14))\n",
    "    )\n",
    "\n",
    "let fin = \n",
    "    Chart.combine([combBBP;combEBP;combHBP])\n",
    "    |> Chart.withYAxisStyle(MinMax = (0.2 , 1.2), ShowGrid = true, GridColor = Color.fromString(\"#e0e0e0\"))\n",
    "    |> Chart.withYAxis(yAxis)\n",
    "    |> Chart.withTitle (Title.init(Text = \"Relevance\", Font = Font.init(Size = 30),X = 0.5, XAnchor = XAnchorPosition.Center))\n",
    "    |> Chart.withMarginSize(Left=40, Right=40, Top=60, Bottom=40)\n",
    "    |> Chart.withLayoutStyle (PlotBGColor = Color.fromString \"#fafafa\", PaperBGColor = Color.fromString \"white\")\n",
    "    |> Chart.withYAxisStyle(TitleText = \"Evaluation Score\", TitleFont = Font.init(Size = 20), ShowGrid = true, GridColor = Color.fromString(\"LightGrey\"))\n",
    "    |> Chart.withLegend(LayoutObjects.Legend.init(X = 1.02, Y = 0.5, XAnchor = XAnchorPosition.Left, YAnchor = YAnchorPosition.Middle))\n",
    "    |> Chart.withTemplate(ChartTemplates.lightMirrored)\n",
    "    |> Chart.withSize(1000,500)\n",
    "\n",
    "let relevanceChart = \n",
    "    let relPoints, relAnnots = List.unzip(getBasicBP dataRelevance 1)\n",
    "    let relMean, relMAnnots = List.unzip(getBasicPC dataRelevance 1)\n",
    "    Chart.combine(relPoints @ relMean)"
   ]
  },
  {
   "cell_type": "code",
   "execution_count": 161,
   "id": "bee4b06e",
   "metadata": {
    "language_info": {
     "name": "polyglot-notebook"
    },
    "polyglot_notebook": {
     "kernelName": "fsharp"
    }
   },
   "outputs": [
    {
     "data": {
      "text/html": [
       "<div><div id=\"8dd3509e-90eb-49b7-bef5-f7ca3ee28c73\"><!-- Plotly chart will be drawn inside this DIV --></div><script type=\"text/javascript\">\n",
       "var renderPlotly_8dd3509e90eb49b7bef5f7ca3ee28c73 = function() {\n",
       "    var fsharpPlotlyRequire = requirejs.config({context:'fsharp-plotly',paths:{plotly:'https://cdn.plot.ly/plotly-2.27.1.min'}}) || require;\n",
       "    fsharpPlotlyRequire(['plotly'], function(Plotly) {\n",
       "        var data = [{\"type\":\"box\",\"name\":\"Basic Prompt\",\"showlegend\":false,\"x\":[\"Basic Prompt\",\"Basic Prompt\",\"Basic Prompt\",\"Basic Prompt\",\"Basic Prompt\",\"Basic Prompt\",\"Basic Prompt\",\"Basic Prompt\"],\"y\":[0.7,0.3,1.0,0.7,1.0,0.7,1.0,0.7],\"marker\":{\"color\":\"#e41a1c\",\"size\":10},\"line\":{\"color\":\"rgba(0,0,0,0)\"},\"boxpoints\":\"all\",\"notched\":false,\"jitter\":0.9,\"BoxPoints\":\"all\",\"fillcolor\":\"rgba(0,0,0,0)\",\"xaxis\":\"x\",\"yaxis\":\"y\"},{\"type\":\"scatter\",\"name\":\"Basic Prompt\",\"showlegend\":true,\"mode\":\"markers\",\"x\":[\"Basic Prompt\"],\"y\":[0.7625000000000001],\"marker\":{\"color\":\"#e41a1c\",\"size\":20,\"symbol\":\"32\"},\"line\":{},\"xaxis\":\"x\",\"yaxis\":\"y\"},{\"type\":\"box\",\"name\":\"Enhanced Prompt\",\"showlegend\":false,\"x\":[\"Enhanced Prompt\",\"Enhanced Prompt\",\"Enhanced Prompt\",\"Enhanced Prompt\",\"Enhanced Prompt\",\"Enhanced Prompt\",\"Enhanced Prompt\",\"Enhanced Prompt\"],\"y\":[0.7,0.3,1.0,1.0,1.0,0.7,1.0,0.7],\"marker\":{\"color\":\"#4daf4a\",\"size\":10},\"line\":{\"color\":\"rgba(0,0,0,0)\"},\"boxpoints\":\"all\",\"notched\":false,\"jitter\":0.9,\"BoxPoints\":\"all\",\"fillcolor\":\"rgba(0,0,0,0)\",\"xaxis\":\"x\",\"yaxis\":\"y\"},{\"type\":\"scatter\",\"name\":\"Enhanced Prompt\",\"showlegend\":true,\"mode\":\"markers\",\"x\":[\"Enhanced Prompt\"],\"y\":[0.8],\"marker\":{\"color\":\"#4daf4a\",\"size\":20,\"symbol\":\"32\"},\"line\":{},\"xaxis\":\"x\",\"yaxis\":\"y\"},{\"type\":\"box\",\"name\":\"Hybrid Prompt\",\"showlegend\":false,\"x\":[\"Hybrid Prompt\",\"Hybrid Prompt\",\"Hybrid Prompt\",\"Hybrid Prompt\",\"Hybrid Prompt\",\"Hybrid Prompt\",\"Hybrid Prompt\",\"Hybrid Prompt\"],\"y\":[0.3,0.7,1.0,0.3,0.7,0.7,0.7,1.0],\"marker\":{\"color\":\"#377eb8\",\"size\":10},\"line\":{\"color\":\"rgba(0,0,0,0)\"},\"boxpoints\":\"all\",\"notched\":false,\"jitter\":0.9,\"BoxPoints\":\"all\",\"fillcolor\":\"rgba(0,0,0,0)\",\"xaxis\":\"x\",\"yaxis\":\"y\"},{\"type\":\"scatter\",\"name\":\"Hybrid Prompt\",\"showlegend\":true,\"mode\":\"markers\",\"x\":[\"Hybrid Prompt\"],\"y\":[0.675],\"marker\":{\"color\":\"#377eb8\",\"size\":20,\"symbol\":\"32\"},\"line\":{},\"xaxis\":\"x\",\"yaxis\":\"y\"},{\"type\":\"box\",\"name\":\"Basic Prompt\",\"showlegend\":false,\"x\":[\"Basic Prompt\",\"Basic Prompt\",\"Basic Prompt\",\"Basic Prompt\",\"Basic Prompt\",\"Basic Prompt\",\"Basic Prompt\",\"Basic Prompt\"],\"y\":[0.7,0.7,1.0,1.0,0.7,1.0,1.0,0.7],\"marker\":{\"color\":\"#e41a1c\",\"size\":10},\"line\":{\"color\":\"rgba(0,0,0,0)\"},\"boxpoints\":\"all\",\"notched\":false,\"jitter\":0.9,\"BoxPoints\":\"all\",\"fillcolor\":\"rgba(0,0,0,0)\",\"xaxis\":\"x2\",\"yaxis\":\"y2\"},{\"type\":\"scatter\",\"name\":null,\"showlegend\":false,\"mode\":\"markers\",\"x\":[\"Basic Prompt\"],\"y\":[0.85],\"marker\":{\"color\":\"#e41a1c\",\"size\":20,\"symbol\":\"32\"},\"line\":{},\"xaxis\":\"x2\",\"yaxis\":\"y2\"},{\"type\":\"box\",\"name\":\"Enhanced Prompt\",\"showlegend\":false,\"x\":[\"Enhanced Prompt\",\"Enhanced Prompt\",\"Enhanced Prompt\",\"Enhanced Prompt\",\"Enhanced Prompt\",\"Enhanced Prompt\",\"Enhanced Prompt\",\"Enhanced Prompt\"],\"y\":[0.7,0.7,1.0,0.7,0.7,1.0,1.0,0.7],\"marker\":{\"color\":\"#4daf4a\",\"size\":10},\"line\":{\"color\":\"rgba(0,0,0,0)\"},\"boxpoints\":\"all\",\"notched\":false,\"jitter\":0.9,\"BoxPoints\":\"all\",\"fillcolor\":\"rgba(0,0,0,0)\",\"xaxis\":\"x2\",\"yaxis\":\"y2\"},{\"type\":\"scatter\",\"name\":null,\"showlegend\":false,\"mode\":\"markers\",\"x\":[\"Enhanced Prompt\"],\"y\":[0.8125],\"marker\":{\"color\":\"#4daf4a\",\"size\":20,\"symbol\":\"32\"},\"line\":{},\"xaxis\":\"x2\",\"yaxis\":\"y2\"},{\"type\":\"box\",\"name\":\"Hybrid Prompt\",\"showlegend\":false,\"x\":[\"Hybrid Prompt\",\"Hybrid Prompt\",\"Hybrid Prompt\",\"Hybrid Prompt\",\"Hybrid Prompt\",\"Hybrid Prompt\",\"Hybrid Prompt\",\"Hybrid Prompt\"],\"y\":[0.7,1.0,0.7,0.7,0.7,1.0,1.0,1.0],\"marker\":{\"color\":\"#377eb8\",\"size\":10},\"line\":{\"color\":\"rgba(0,0,0,0)\"},\"boxpoints\":\"all\",\"notched\":false,\"jitter\":0.9,\"BoxPoints\":\"all\",\"fillcolor\":\"rgba(0,0,0,0)\",\"xaxis\":\"x2\",\"yaxis\":\"y2\"},{\"type\":\"scatter\",\"name\":null,\"showlegend\":false,\"mode\":\"markers\",\"x\":[\"Hybrid Prompt\"],\"y\":[0.85],\"marker\":{\"color\":\"#377eb8\",\"size\":20,\"symbol\":\"32\"},\"line\":{},\"xaxis\":\"x2\",\"yaxis\":\"y2\"},{\"type\":\"box\",\"name\":\"Basic Prompt\",\"showlegend\":false,\"x\":[\"Basic Prompt\",\"Basic Prompt\",\"Basic Prompt\",\"Basic Prompt\",\"Basic Prompt\",\"Basic Prompt\",\"Basic Prompt\",\"Basic Prompt\"],\"y\":[0.3,0.3,1.0,0.7,1.0,1.0,1.0,0.7],\"marker\":{\"color\":\"#e41a1c\",\"size\":10},\"line\":{\"color\":\"rgba(0,0,0,0)\"},\"boxpoints\":\"all\",\"notched\":false,\"jitter\":0.9,\"BoxPoints\":\"all\",\"fillcolor\":\"rgba(0,0,0,0)\",\"xaxis\":\"x3\",\"yaxis\":\"y3\"},{\"type\":\"scatter\",\"name\":null,\"showlegend\":false,\"mode\":\"markers\",\"x\":[\"Basic Prompt\"],\"y\":[0.75],\"marker\":{\"color\":\"#e41a1c\",\"size\":20,\"symbol\":\"32\"},\"line\":{},\"xaxis\":\"x3\",\"yaxis\":\"y3\"},{\"type\":\"box\",\"name\":\"Enhanced Prompt\",\"showlegend\":false,\"x\":[\"Enhanced Prompt\",\"Enhanced Prompt\",\"Enhanced Prompt\",\"Enhanced Prompt\",\"Enhanced Prompt\",\"Enhanced Prompt\",\"Enhanced Prompt\",\"Enhanced Prompt\"],\"y\":[1.0,0.7,1.0,0.7,0.7,1.0,0.3,0.7],\"marker\":{\"color\":\"#4daf4a\",\"size\":10},\"line\":{\"color\":\"rgba(0,0,0,0)\"},\"boxpoints\":\"all\",\"notched\":false,\"jitter\":0.9,\"BoxPoints\":\"all\",\"fillcolor\":\"rgba(0,0,0,0)\",\"xaxis\":\"x3\",\"yaxis\":\"y3\"},{\"type\":\"scatter\",\"name\":null,\"showlegend\":false,\"mode\":\"markers\",\"x\":[\"Enhanced Prompt\"],\"y\":[0.7625000000000001],\"marker\":{\"color\":\"#4daf4a\",\"size\":20,\"symbol\":\"32\"},\"line\":{},\"xaxis\":\"x3\",\"yaxis\":\"y3\"},{\"type\":\"box\",\"name\":\"Hybrid Prompt\",\"showlegend\":false,\"x\":[\"Hybrid Prompt\",\"Hybrid Prompt\",\"Hybrid Prompt\",\"Hybrid Prompt\",\"Hybrid Prompt\",\"Hybrid Prompt\",\"Hybrid Prompt\",\"Hybrid Prompt\"],\"y\":[0.3,1.0,1.0,0.7,0.7,0.7,1.0,1.0],\"marker\":{\"color\":\"#377eb8\",\"size\":10},\"line\":{\"color\":\"rgba(0,0,0,0)\"},\"boxpoints\":\"all\",\"notched\":false,\"jitter\":0.9,\"BoxPoints\":\"all\",\"fillcolor\":\"rgba(0,0,0,0)\",\"xaxis\":\"x3\",\"yaxis\":\"y3\"},{\"type\":\"scatter\",\"name\":null,\"showlegend\":false,\"mode\":\"markers\",\"x\":[\"Hybrid Prompt\"],\"y\":[0.8],\"marker\":{\"color\":\"#377eb8\",\"size\":20,\"symbol\":\"32\"},\"line\":{},\"xaxis\":\"x3\",\"yaxis\":\"y3\"},{\"type\":\"box\",\"name\":\"Basic Prompt\",\"showlegend\":false,\"x\":[\"Basic Prompt\",\"Basic Prompt\",\"Basic Prompt\",\"Basic Prompt\",\"Basic Prompt\",\"Basic Prompt\",\"Basic Prompt\",\"Basic Prompt\"],\"y\":[0.7,0.7,1.0,0.7,1.0,1.0,1.0,0.7],\"marker\":{\"color\":\"#e41a1c\",\"size\":10},\"line\":{\"color\":\"rgba(0,0,0,0)\"},\"boxpoints\":\"all\",\"notched\":false,\"jitter\":0.9,\"BoxPoints\":\"all\",\"fillcolor\":\"rgba(0,0,0,0)\",\"xaxis\":\"x4\",\"yaxis\":\"y4\"},{\"type\":\"scatter\",\"name\":null,\"showlegend\":false,\"mode\":\"markers\",\"x\":[\"Basic Prompt\"],\"y\":[0.85],\"marker\":{\"color\":\"#e41a1c\",\"size\":20,\"symbol\":\"32\"},\"line\":{},\"xaxis\":\"x4\",\"yaxis\":\"y4\"},{\"type\":\"box\",\"name\":\"Enhanced Prompt\",\"showlegend\":false,\"x\":[\"Enhanced Prompt\",\"Enhanced Prompt\",\"Enhanced Prompt\",\"Enhanced Prompt\",\"Enhanced Prompt\",\"Enhanced Prompt\",\"Enhanced Prompt\",\"Enhanced Prompt\"],\"y\":[1.0,0.7,1.0,1.0,1.0,1.0,0.7,0.7],\"marker\":{\"color\":\"#4daf4a\",\"size\":10},\"line\":{\"color\":\"rgba(0,0,0,0)\"},\"boxpoints\":\"all\",\"notched\":false,\"jitter\":0.9,\"BoxPoints\":\"all\",\"fillcolor\":\"rgba(0,0,0,0)\",\"xaxis\":\"x4\",\"yaxis\":\"y4\"},{\"type\":\"scatter\",\"name\":null,\"showlegend\":false,\"mode\":\"markers\",\"x\":[\"Enhanced Prompt\"],\"y\":[0.8875000000000001],\"marker\":{\"color\":\"#4daf4a\",\"size\":20,\"symbol\":\"32\"},\"line\":{},\"xaxis\":\"x4\",\"yaxis\":\"y4\"},{\"type\":\"box\",\"name\":\"Hybrid Prompt\",\"showlegend\":false,\"x\":[\"Hybrid Prompt\",\"Hybrid Prompt\",\"Hybrid Prompt\",\"Hybrid Prompt\",\"Hybrid Prompt\",\"Hybrid Prompt\",\"Hybrid Prompt\",\"Hybrid Prompt\"],\"y\":[0.7,0.7,1.0,1.0,0.3,1.0,1.0,0.7],\"marker\":{\"color\":\"#377eb8\",\"size\":10},\"line\":{\"color\":\"rgba(0,0,0,0)\"},\"boxpoints\":\"all\",\"notched\":false,\"jitter\":0.9,\"BoxPoints\":\"all\",\"fillcolor\":\"rgba(0,0,0,0)\",\"xaxis\":\"x4\",\"yaxis\":\"y4\"},{\"type\":\"scatter\",\"name\":null,\"showlegend\":false,\"mode\":\"markers\",\"x\":[\"Hybrid Prompt\"],\"y\":[0.7999999999999999],\"marker\":{\"color\":\"#377eb8\",\"size\":20,\"symbol\":\"32\"},\"line\":{},\"xaxis\":\"x4\",\"yaxis\":\"y4\"}];\n",
       "        var layout = {\"width\":1600,\"height\":1200,\"template\":{\"layout\":{\"paper_bgcolor\":\"white\",\"plot_bgcolor\":\"white\",\"xaxis\":{\"ticks\":\"inside\",\"mirror\":\"all\",\"showline\":true,\"zeroline\":true},\"yaxis\":{\"ticks\":\"inside\",\"mirror\":\"all\",\"showline\":true,\"zeroline\":true}},\"data\":{}},\"yaxis\":{\"title\":{},\"range\":[0.0,1.2]},\"xaxis\":{\"title\":{},\"showgrid\":false},\"yaxis2\":{\"title\":{},\"range\":[0.0,1.2]},\"xaxis2\":{\"title\":{},\"showgrid\":false},\"yaxis3\":{\"title\":{},\"range\":[0.0,1.2]},\"xaxis3\":{\"title\":{},\"showgrid\":false},\"yaxis4\":{\"title\":{},\"range\":[0.0,1.2]},\"xaxis4\":{\"title\":{},\"showgrid\":false},\"annotations\":[{\"x\":0.18,\"y\":1.05,\"font\":{\"size\":25.0,\"color\":\"#000\"},\"showarrow\":false,\"text\":\"Relevance\",\"xref\":\"paper\",\"yref\":\"paper\"},{\"x\":0.82,\"y\":1.05,\"font\":{\"size\":25.0,\"color\":\"#000\"},\"showarrow\":false,\"text\":\"Coherence\",\"xref\":\"paper\",\"yref\":\"paper\"},{\"x\":0.18,\"y\":0.48,\"font\":{\"size\":25.0,\"color\":\"#000\"},\"showarrow\":false,\"text\":\"Factual Consistency\",\"xref\":\"paper\",\"yref\":\"paper\"},{\"x\":0.82,\"y\":0.48,\"font\":{\"size\":25.0,\"color\":\"#000\"},\"showarrow\":false,\"text\":\"Fluency\",\"xref\":\"paper\",\"yref\":\"paper\"},{\"x\":\"Basic Prompt\",\"y\":0.8125000000000001,\"font\":{\"size\":15.0},\"showarrow\":false,\"text\":\"0.7625\",\"xref\":\"x1\",\"xshift\":35,\"yref\":\"y1\"},{\"x\":\"Enhanced Prompt\",\"y\":0.8500000000000001,\"font\":{\"size\":15.0},\"showarrow\":false,\"text\":\"0.8000\",\"xref\":\"x1\",\"xshift\":35,\"yref\":\"y1\"},{\"x\":\"Hybrid Prompt\",\"y\":0.7250000000000001,\"font\":{\"size\":15.0},\"showarrow\":false,\"text\":\"0.6750\",\"xref\":\"x1\",\"xshift\":35,\"yref\":\"y1\"},{\"x\":\"Basic Prompt\",\"y\":0.9,\"font\":{\"size\":15.0},\"showarrow\":false,\"text\":\"0.8500\",\"xref\":\"x2\",\"xshift\":35,\"yref\":\"y2\"},{\"x\":\"Enhanced Prompt\",\"y\":0.8625,\"font\":{\"size\":15.0},\"showarrow\":false,\"text\":\"0.8125\",\"xref\":\"x2\",\"xshift\":35,\"yref\":\"y2\"},{\"x\":\"Hybrid Prompt\",\"y\":0.9,\"font\":{\"size\":15.0},\"showarrow\":false,\"text\":\"0.8500\",\"xref\":\"x2\",\"xshift\":35,\"yref\":\"y2\"},{\"x\":\"Basic Prompt\",\"y\":0.8,\"font\":{\"size\":15.0},\"showarrow\":false,\"text\":\"0.7500\",\"xref\":\"x3\",\"xshift\":35,\"yref\":\"y3\"},{\"x\":\"Enhanced Prompt\",\"y\":0.8125000000000001,\"font\":{\"size\":15.0},\"showarrow\":false,\"text\":\"0.7625\",\"xref\":\"x3\",\"xshift\":35,\"yref\":\"y3\"},{\"x\":\"Hybrid Prompt\",\"y\":0.8500000000000001,\"font\":{\"size\":15.0},\"showarrow\":false,\"text\":\"0.8000\",\"xref\":\"x3\",\"xshift\":35,\"yref\":\"y3\"},{\"x\":\"Basic Prompt\",\"y\":0.9,\"font\":{\"size\":15.0},\"showarrow\":false,\"text\":\"0.8500\",\"xref\":\"x4\",\"xshift\":35,\"yref\":\"y4\"},{\"x\":\"Enhanced Prompt\",\"y\":0.9375000000000001,\"font\":{\"size\":15.0},\"showarrow\":false,\"text\":\"0.8875\",\"xref\":\"x4\",\"xshift\":35,\"yref\":\"y4\"},{\"x\":\"Hybrid Prompt\",\"y\":0.85,\"font\":{\"size\":15.0},\"showarrow\":false,\"text\":\"0.8000\",\"xref\":\"x4\",\"xshift\":35,\"yref\":\"y4\"},{\"x\":-0.025,\"y\":0.5,\"font\":{\"size\":30.0},\"showarrow\":false,\"text\":\"Evaluation Score\",\"textangle\":-90.0,\"xanchor\":\"right\",\"xref\":\"paper\",\"yanchor\":\"middle\",\"yref\":\"paper\"}],\"legend\":{\"font\":{\"size\":20.0},\"orientation\":\"h\",\"traceorder\":\"normal\",\"x\":0.5,\"xanchor\":\"center\",\"y\":-0.08,\"yanchor\":\"bottom\"},\"grid\":{\"subplots\":[[\"xy\",\"x2y2\"],[\"x3y3\",\"x4y4\"]],\"rows\":2,\"columns\":2,\"roworder\":\"top to bottom\",\"xgap\":0.15,\"ygap\":0.15}};\n",
       "        var config = {\"responsive\":true};\n",
       "        Plotly.newPlot('8dd3509e-90eb-49b7-bef5-f7ca3ee28c73', data, layout, config);\n",
       "    });\n",
       "};\n",
       "if ((typeof(requirejs) !==  typeof(Function)) || (typeof(requirejs.config) !== typeof(Function))) {\n",
       "    var script = document.createElement(\"script\");\n",
       "    script.setAttribute(\"charset\", \"utf-8\");\n",
       "    script.setAttribute(\"src\", \"https://cdnjs.cloudflare.com/ajax/libs/require.js/2.3.6/require.min.js\");\n",
       "    script.onload = function(){\n",
       "        renderPlotly_8dd3509e90eb49b7bef5f7ca3ee28c73();\n",
       "    };\n",
       "    document.getElementsByTagName(\"head\")[0].appendChild(script);\n",
       "}\n",
       "else {\n",
       "    renderPlotly_8dd3509e90eb49b7bef5f7ca3ee28c73();\n",
       "}\n",
       "</script></div>"
      ]
     },
     "metadata": {},
     "output_type": "display_data"
    }
   ],
   "source": [
    "// Chart Maintainer\n",
    "let relevanceBP = [0.7; 0.3; 1; 0.7; 1; 0.7; 1; 0.7]\n",
    "let relevanceEP = [0.7; 0.3; 1; 1; 1; 0.7; 1; 0.7]\n",
    "let relevanceHP = [0.3; 0.7; 1; 0.3; 0.7; 0.7; 0.7; 1]\n",
    "\n",
    "let coherenceBP = [0.7;0.7;1;1;0.7;1;1;0.7]\n",
    "let coherenceEP = [0.7;0.7;1;0.7;0.7;1;1;0.7]\n",
    "let coherenceHP = [0.7;1;0.7;0.7;0.7;1;1;1]\n",
    "\n",
    "let facConBP = [0.3;0.3;1;0.7;1;1;1;0.7]\n",
    "let facConEP = [1.0;0.7;1;0.7;0.7;1;0.3;0.7]\n",
    "let facConHP = [0.3;1;1;0.7;0.7;0.7;1;1]\n",
    "\n",
    "let fluencyBP = [0.7;0.7;1;0.7;1;1;1;0.7]\n",
    "let fluencyEP = [1.0;0.7;1;1;1;1;0.7;0.7]\n",
    "let fluencyHP = [0.7;0.7;1;1;0.3;1;1;0.7]\n",
    "\n",
    "let dataRelevance =\n",
    "    [ \"Basic Prompt\", \"#e41a1c\", relevanceBP\n",
    "      \"Enhanced Prompt\", \"#4daf4a\", relevanceEP\n",
    "      \"Hybrid Prompt\", \"#377eb8\", relevanceHP ]\n",
    "\n",
    "let dataCoherence =\n",
    "    [ \"Basic Prompt\", \"#e41a1c\", coherenceBP\n",
    "      \"Enhanced Prompt\", \"#4daf4a\", coherenceEP\n",
    "      \"Hybrid Prompt\", \"#377eb8\", coherenceHP ]\n",
    "\n",
    "\n",
    "let dataFactualConsistency =\n",
    "    [ \"Basic Prompt\", \"#e41a1c\", facConBP\n",
    "      \"Enhanced Prompt\", \"#4daf4a\", facConEP\n",
    "      \"Hybrid Prompt\", \"#377eb8\", facConHP ]\n",
    "\n",
    "\n",
    "let dataFluency =\n",
    "    [ \"Basic Prompt\", \"#e41a1c\", fluencyBP\n",
    "      \"Enhanced Prompt\", \"#4daf4a\", fluencyEP\n",
    "      \"Hybrid Prompt\", \"#377eb8\", fluencyHP ]\n",
    "\n",
    "let titles = \n",
    "    [ (\"Relevance\", 0.18, 1.05)\n",
    "      (\"Coherence\", 0.82, 1.05)\n",
    "      (\"Factual Consistency\", 0.18, 0.48)\n",
    "      (\"Fluency\", 0.82, 0.48) ]\n",
    "\n",
    "let titleAnnotations =\n",
    "    titles\n",
    "    |> List.map (fun (txt, x, y) ->\n",
    "        LayoutObjects.Annotation.init(\n",
    "            Text = txt,\n",
    "            X = x,\n",
    "            Y = y,\n",
    "            ShowArrow = false,\n",
    "            XRef = \"paper\",\n",
    "            YRef = \"paper\",\n",
    "            Font = Font.init(Size = 25, Color = Color.fromString \"#000\")\n",
    "        ))      \n",
    "\n",
    "\n",
    "let pointsWithErrorBarsAndScatter (data : list<string * string * list<float>>) subplotId showLegend =\n",
    "    data\n",
    "    |> List.map (fun (label, color, values) ->\n",
    "        let mean = FSharp.Stats.Seq.mean values\n",
    "        //let stddev = FSharp.Stats.Seq.stDev values\n",
    "\n",
    "        // Mean + error bar\n",
    "        let chartPoint =\n",
    "            Chart.Point(\n",
    "                xy = [(label, mean)],\n",
    "                Name = if showLegend then label else null\n",
    "                ,\n",
    "                ShowLegend = showLegend,\n",
    "                Marker = TraceObjects.Marker.init(Color = Color.fromString color,Symbol = MarkerSymbol.DiamondX, Size = 20)\n",
    "            )\n",
    "            //|> Chart.withYErrorStyle(Visible = true, Type = StyleParam.ErrorType.Data, Array = [stddev])\n",
    "            |> Chart.withAxisAnchor(X = subplotId, Y = subplotId)\n",
    "            |> Chart.withYAxisStyle(MinMax = (0.0, 1.2), Id = StyleParam.SubPlotId.YAxis subplotId)  \n",
    "            |> Chart.withXAxisStyle(ShowGrid = false, Id = StyleParam.SubPlotId.XAxis subplotId)\n",
    "\n",
    "        // Scatter as jittered boxplot (whiskers hidden)\n",
    "        let chartScatter =\n",
    "            Chart.BoxPlot(\n",
    "                Y = values,\n",
    "                X = List.replicate (List.length values) label,  // <-- force same x-category\n",
    "                BoxPoints = BoxPoints.All,\n",
    "                Jitter = 0.9,\n",
    "                Notched = false,\n",
    "                ShowLegend = false,\n",
    "                Marker = TraceObjects.Marker.init(Color = Color.fromString color, Size = 10),\n",
    "                Name = label\n",
    "            )\n",
    "            |> GenericChart.mapTrace(fun t -> \n",
    "                t?BoxPoints <- \"all\"\n",
    "                t?fillcolor <- \"rgba(0,0,0,0)\"   // hide box fill\n",
    "                t?line <- {| color = \"rgba(0,0,0,0)\"|} // hide whiskers\n",
    "                t\n",
    "            )\n",
    "            |> Chart.withAxisAnchor(X = subplotId, Y = subplotId)   // <-- bind to correct subplot\n",
    "\n",
    "        let combChart = Chart.combine([chartScatter; chartPoint])\n",
    "\n",
    "        let annotation =\n",
    "            LayoutObjects.Annotation.init(\n",
    "                Text = $\"{mean:F4}\",\n",
    "                X = label,\n",
    "                Y = mean + 0.05,\n",
    "                ShowArrow = false,\n",
    "                XRef = $\"x{subplotId}\",\n",
    "                YRef = $\"y{subplotId}\",\n",
    "                Font = Font.init(Size = 15),\n",
    "                XShift = 35\n",
    "            )\n",
    "\n",
    "        combChart, annotation\n",
    "    )\n",
    "\n",
    "\n",
    "\n",
    "\n",
    "\n",
    "let relPoints, relAnnots = List.unzip (pointsWithErrorBarsAndScatter dataRelevance 1 true)\n",
    "let cohPoints, cohAnnots = List.unzip (pointsWithErrorBarsAndScatter dataCoherence 2 false)\n",
    "let facPoints, facAnnots = List.unzip (pointsWithErrorBarsAndScatter dataFactualConsistency 3 false)\n",
    "let fluePoints, flueAnnots = List.unzip (pointsWithErrorBarsAndScatter dataFluency 4 false)\n",
    "\n",
    "\n",
    "let yAxisGlobalTitle =\n",
    "    LayoutObjects.Annotation.init(\n",
    "        Text = \"Evaluation Score\",\n",
    "        X = -0.025, \n",
    "        Y = 0.5,\n",
    "        ShowArrow = false,\n",
    "        TextAngle = -90,\n",
    "        XRef = \"paper\",\n",
    "        YRef = \"paper\",\n",
    "        Font = Font.init(Size = 30),\n",
    "        XAnchor = StyleParam.XAnchorPosition.Right,\n",
    "        YAnchor = StyleParam.YAnchorPosition.Middle\n",
    "    )\n",
    "\n",
    "\n",
    "let finalChart2 =\n",
    "    Chart.combine(relPoints @ cohPoints @ facPoints @ fluePoints)\n",
    "    |> Chart.withAnnotations(titleAnnotations @ relAnnots @ cohAnnots @ facAnnots @ flueAnnots @ [yAxisGlobalTitle])\n",
    "    |> Chart.withLegend(LayoutObjects.Legend.init(Orientation = Orientation.Horizontal, Font = Font.init(Size = 20), X = 0.5, XAnchor = XAnchorPosition.Center, Y = -0.08,YAnchor = YAnchorPosition.Bottom, TraceOrder = TraceOrder.Normal))//|> Chart.withLegend(LayoutObjects.Legend.init(X = 1.02, Y = 0.5, XAnchor = XAnchorPosition.Left, YAnchor = YAnchorPosition.Middle)) //Title = Title.init(\"Prompt Type\") , \n",
    "    |> Chart.withLayoutGrid(LayoutObjects.LayoutGrid.init(\n",
    "        Rows= 2, \n",
    "        Columns = 2, \n",
    "        SubPlots = \n",
    "                [| \n",
    "                    [| (StyleParam.LinearAxisId.X 1, StyleParam.LinearAxisId.Y 1); \n",
    "                       (StyleParam.LinearAxisId.X 2, StyleParam.LinearAxisId.Y 2) |]\n",
    "                    [| (StyleParam.LinearAxisId.X 3, StyleParam.LinearAxisId.Y 3); \n",
    "                       (StyleParam.LinearAxisId.X 4, StyleParam.LinearAxisId.Y 4) |]\n",
    "                |],\n",
    "        RowOrder = LayoutGridRowOrder.TopToBottom,\n",
    "        XGap = 0.15,\n",
    "        YGap = 0.15\n",
    "    ))\n",
    "    |> Chart.withSize(1600, 1200)\n",
    "    |> Chart.withTemplate(ChartTemplates.lightMirrored)\n",
    "\n",
    "\n",
    "finalChart2\n"
   ]
  },
  {
   "cell_type": "code",
   "execution_count": 13,
   "id": "5610a85c",
   "metadata": {
    "language_info": {
     "name": "polyglot-notebook"
    },
    "polyglot_notebook": {
     "kernelName": "fsharp"
    }
   },
   "outputs": [],
   "source": [
    "// allRelBP\n",
    "// |> Chart.saveHtml \"relevance-boxplot.html\""
   ]
  },
  {
   "cell_type": "code",
   "execution_count": 162,
   "id": "d8ba86e2",
   "metadata": {
    "language_info": {
     "name": "polyglot-notebook"
    },
    "polyglot_notebook": {
     "kernelName": "fsharp"
    }
   },
   "outputs": [
    {
     "data": {
      "text/html": [
       "<div><div id=\"fc5f6c48-89a4-40b2-bb44-7472f7952b5a\"><!-- Plotly chart will be drawn inside this DIV --></div><script type=\"text/javascript\">\n",
       "var renderPlotly_fc5f6c4889a440b2bb447472f7952b5a = function() {\n",
       "    var fsharpPlotlyRequire = requirejs.config({context:'fsharp-plotly',paths:{plotly:'https://cdn.plot.ly/plotly-2.27.1.min'}}) || require;\n",
       "    fsharpPlotlyRequire(['plotly'], function(Plotly) {\n",
       "        var data = [{\"type\":\"box\",\"name\":\"Basic Prompt\",\"showlegend\":false,\"x\":[\"Basic Prompt\",\"Basic Prompt\",\"Basic Prompt\",\"Basic Prompt\",\"Basic Prompt\",\"Basic Prompt\",\"Basic Prompt\",\"Basic Prompt\"],\"y\":[0.7,0.7,0.7,1.0,0.3,0.7,0.7,1.0],\"marker\":{\"color\":\"#e41a1c\",\"size\":10},\"line\":{\"color\":\"rgba(0,0,0,0)\"},\"boxpoints\":\"all\",\"notched\":false,\"jitter\":0.9,\"BoxPoints\":\"all\",\"fillcolor\":\"rgba(0,0,0,0)\",\"xaxis\":\"x\",\"yaxis\":\"y\"},{\"type\":\"scatter\",\"name\":\"Basic Prompt\",\"showlegend\":true,\"mode\":\"markers\",\"x\":[\"Basic Prompt\"],\"y\":[0.725],\"marker\":{\"color\":\"#e41a1c\",\"size\":20,\"symbol\":\"32\"},\"line\":{},\"xaxis\":\"x\",\"yaxis\":\"y\"},{\"type\":\"box\",\"name\":\"Enhanced Prompt\",\"showlegend\":false,\"x\":[\"Enhanced Prompt\",\"Enhanced Prompt\",\"Enhanced Prompt\",\"Enhanced Prompt\",\"Enhanced Prompt\",\"Enhanced Prompt\",\"Enhanced Prompt\",\"Enhanced Prompt\"],\"y\":[0.7,0.7,0.7,1.0,0.7,1.0,0.7,1.0],\"marker\":{\"color\":\"#4daf4a\",\"size\":10},\"line\":{\"color\":\"rgba(0,0,0,0)\"},\"boxpoints\":\"all\",\"notched\":false,\"jitter\":0.9,\"BoxPoints\":\"all\",\"fillcolor\":\"rgba(0,0,0,0)\",\"xaxis\":\"x\",\"yaxis\":\"y\"},{\"type\":\"scatter\",\"name\":\"Enhanced Prompt\",\"showlegend\":true,\"mode\":\"markers\",\"x\":[\"Enhanced Prompt\"],\"y\":[0.8125],\"marker\":{\"color\":\"#4daf4a\",\"size\":20,\"symbol\":\"32\"},\"line\":{},\"xaxis\":\"x\",\"yaxis\":\"y\"},{\"type\":\"box\",\"name\":\"Hybrid Prompt\",\"showlegend\":false,\"x\":[\"Hybrid Prompt\",\"Hybrid Prompt\",\"Hybrid Prompt\",\"Hybrid Prompt\",\"Hybrid Prompt\",\"Hybrid Prompt\",\"Hybrid Prompt\",\"Hybrid Prompt\"],\"y\":[0.7,1.0,1.0,1.0,0.7,0.7,1.0,1.0],\"marker\":{\"color\":\"#377eb8\",\"size\":10},\"line\":{\"color\":\"rgba(0,0,0,0)\"},\"boxpoints\":\"all\",\"notched\":false,\"jitter\":0.9,\"BoxPoints\":\"all\",\"fillcolor\":\"rgba(0,0,0,0)\",\"xaxis\":\"x\",\"yaxis\":\"y\"},{\"type\":\"scatter\",\"name\":\"Hybrid Prompt\",\"showlegend\":true,\"mode\":\"markers\",\"x\":[\"Hybrid Prompt\"],\"y\":[0.8875000000000001],\"marker\":{\"color\":\"#377eb8\",\"size\":20,\"symbol\":\"32\"},\"line\":{},\"xaxis\":\"x\",\"yaxis\":\"y\"},{\"type\":\"box\",\"name\":\"Basic Prompt\",\"showlegend\":false,\"x\":[\"Basic Prompt\",\"Basic Prompt\",\"Basic Prompt\",\"Basic Prompt\",\"Basic Prompt\",\"Basic Prompt\",\"Basic Prompt\",\"Basic Prompt\"],\"y\":[1.0,0.7,1.0,0.7,0.3,0.3,0.3,1.0],\"marker\":{\"color\":\"#e41a1c\",\"size\":10},\"line\":{\"color\":\"rgba(0,0,0,0)\"},\"boxpoints\":\"all\",\"notched\":false,\"jitter\":0.9,\"BoxPoints\":\"all\",\"fillcolor\":\"rgba(0,0,0,0)\",\"xaxis\":\"x2\",\"yaxis\":\"y2\"},{\"type\":\"scatter\",\"name\":null,\"showlegend\":false,\"mode\":\"markers\",\"x\":[\"Basic Prompt\"],\"y\":[0.6625],\"marker\":{\"color\":\"#e41a1c\",\"size\":20,\"symbol\":\"32\"},\"line\":{},\"xaxis\":\"x2\",\"yaxis\":\"y2\"},{\"type\":\"box\",\"name\":\"Enhanced Prompt\",\"showlegend\":false,\"x\":[\"Enhanced Prompt\",\"Enhanced Prompt\",\"Enhanced Prompt\",\"Enhanced Prompt\",\"Enhanced Prompt\",\"Enhanced Prompt\",\"Enhanced Prompt\",\"Enhanced Prompt\"],\"y\":[0.7,0.3,1.0,0.7,0.7,0.7,0.7,0.7],\"marker\":{\"color\":\"#4daf4a\",\"size\":10},\"line\":{\"color\":\"rgba(0,0,0,0)\"},\"boxpoints\":\"all\",\"notched\":false,\"jitter\":0.9,\"BoxPoints\":\"all\",\"fillcolor\":\"rgba(0,0,0,0)\",\"xaxis\":\"x2\",\"yaxis\":\"y2\"},{\"type\":\"scatter\",\"name\":null,\"showlegend\":false,\"mode\":\"markers\",\"x\":[\"Enhanced Prompt\"],\"y\":[0.6875000000000001],\"marker\":{\"color\":\"#4daf4a\",\"size\":20,\"symbol\":\"32\"},\"line\":{},\"xaxis\":\"x2\",\"yaxis\":\"y2\"},{\"type\":\"box\",\"name\":\"Hybrid Prompt\",\"showlegend\":false,\"x\":[\"Hybrid Prompt\",\"Hybrid Prompt\",\"Hybrid Prompt\",\"Hybrid Prompt\",\"Hybrid Prompt\",\"Hybrid Prompt\",\"Hybrid Prompt\",\"Hybrid Prompt\"],\"y\":[0.7,0.7,1.0,0.7,0.7,0.7,1.0,0.7],\"marker\":{\"color\":\"#377eb8\",\"size\":10},\"line\":{\"color\":\"rgba(0,0,0,0)\"},\"boxpoints\":\"all\",\"notched\":false,\"jitter\":0.9,\"BoxPoints\":\"all\",\"fillcolor\":\"rgba(0,0,0,0)\",\"xaxis\":\"x2\",\"yaxis\":\"y2\"},{\"type\":\"scatter\",\"name\":null,\"showlegend\":false,\"mode\":\"markers\",\"x\":[\"Hybrid Prompt\"],\"y\":[0.775],\"marker\":{\"color\":\"#377eb8\",\"size\":20,\"symbol\":\"32\"},\"line\":{},\"xaxis\":\"x2\",\"yaxis\":\"y2\"},{\"type\":\"box\",\"name\":\"Basic Prompt\",\"showlegend\":false,\"x\":[\"Basic Prompt\",\"Basic Prompt\",\"Basic Prompt\",\"Basic Prompt\",\"Basic Prompt\",\"Basic Prompt\",\"Basic Prompt\",\"Basic Prompt\"],\"y\":[0.7,1.0,1.0,0.7,0.3,0.3,0.3,1.0],\"marker\":{\"color\":\"#e41a1c\",\"size\":10},\"line\":{\"color\":\"rgba(0,0,0,0)\"},\"boxpoints\":\"all\",\"notched\":false,\"jitter\":0.9,\"BoxPoints\":\"all\",\"fillcolor\":\"rgba(0,0,0,0)\",\"xaxis\":\"x3\",\"yaxis\":\"y3\"},{\"type\":\"scatter\",\"name\":null,\"showlegend\":false,\"mode\":\"markers\",\"x\":[\"Basic Prompt\"],\"y\":[0.6625],\"marker\":{\"color\":\"#e41a1c\",\"size\":20,\"symbol\":\"32\"},\"line\":{},\"xaxis\":\"x3\",\"yaxis\":\"y3\"},{\"type\":\"box\",\"name\":\"Enhanced Prompt\",\"showlegend\":false,\"x\":[\"Enhanced Prompt\",\"Enhanced Prompt\",\"Enhanced Prompt\",\"Enhanced Prompt\",\"Enhanced Prompt\",\"Enhanced Prompt\",\"Enhanced Prompt\",\"Enhanced Prompt\"],\"y\":[1.0,0.7,1.0,0.7,0.3,1.0,0.7,1.0],\"marker\":{\"color\":\"#4daf4a\",\"size\":10},\"line\":{\"color\":\"rgba(0,0,0,0)\"},\"boxpoints\":\"all\",\"notched\":false,\"jitter\":0.9,\"BoxPoints\":\"all\",\"fillcolor\":\"rgba(0,0,0,0)\",\"xaxis\":\"x3\",\"yaxis\":\"y3\"},{\"type\":\"scatter\",\"name\":null,\"showlegend\":false,\"mode\":\"markers\",\"x\":[\"Enhanced Prompt\"],\"y\":[0.8],\"marker\":{\"color\":\"#4daf4a\",\"size\":20,\"symbol\":\"32\"},\"line\":{},\"xaxis\":\"x3\",\"yaxis\":\"y3\"},{\"type\":\"box\",\"name\":\"Hybrid Prompt\",\"showlegend\":false,\"x\":[\"Hybrid Prompt\",\"Hybrid Prompt\",\"Hybrid Prompt\",\"Hybrid Prompt\",\"Hybrid Prompt\",\"Hybrid Prompt\",\"Hybrid Prompt\",\"Hybrid Prompt\"],\"y\":[1.0,1.0,1.0,1.0,0.7,0.3,0.7,1.0],\"marker\":{\"color\":\"#377eb8\",\"size\":10},\"line\":{\"color\":\"rgba(0,0,0,0)\"},\"boxpoints\":\"all\",\"notched\":false,\"jitter\":0.9,\"BoxPoints\":\"all\",\"fillcolor\":\"rgba(0,0,0,0)\",\"xaxis\":\"x3\",\"yaxis\":\"y3\"},{\"type\":\"scatter\",\"name\":null,\"showlegend\":false,\"mode\":\"markers\",\"x\":[\"Hybrid Prompt\"],\"y\":[0.8375],\"marker\":{\"color\":\"#377eb8\",\"size\":20,\"symbol\":\"32\"},\"line\":{},\"xaxis\":\"x3\",\"yaxis\":\"y3\"},{\"type\":\"box\",\"name\":\"Basic Prompt\",\"showlegend\":false,\"x\":[\"Basic Prompt\",\"Basic Prompt\",\"Basic Prompt\",\"Basic Prompt\",\"Basic Prompt\",\"Basic Prompt\",\"Basic Prompt\",\"Basic Prompt\"],\"y\":[0.7,1.0,1.0,0.7,0.3,1.0,0.7,1.0],\"marker\":{\"color\":\"#e41a1c\",\"size\":10},\"line\":{\"color\":\"rgba(0,0,0,0)\"},\"boxpoints\":\"all\",\"notched\":false,\"jitter\":0.9,\"BoxPoints\":\"all\",\"fillcolor\":\"rgba(0,0,0,0)\",\"xaxis\":\"x4\",\"yaxis\":\"y4\"},{\"type\":\"scatter\",\"name\":null,\"showlegend\":false,\"mode\":\"markers\",\"x\":[\"Basic Prompt\"],\"y\":[0.8],\"marker\":{\"color\":\"#e41a1c\",\"size\":20,\"symbol\":\"32\"},\"line\":{},\"xaxis\":\"x4\",\"yaxis\":\"y4\"},{\"type\":\"box\",\"name\":\"Enhanced Prompt\",\"showlegend\":false,\"x\":[\"Enhanced Prompt\",\"Enhanced Prompt\",\"Enhanced Prompt\",\"Enhanced Prompt\",\"Enhanced Prompt\",\"Enhanced Prompt\",\"Enhanced Prompt\",\"Enhanced Prompt\"],\"y\":[1.0,1.0,0.7,0.7,0.7,0.7,0.7,0.7],\"marker\":{\"color\":\"#4daf4a\",\"size\":10},\"line\":{\"color\":\"rgba(0,0,0,0)\"},\"boxpoints\":\"all\",\"notched\":false,\"jitter\":0.9,\"BoxPoints\":\"all\",\"fillcolor\":\"rgba(0,0,0,0)\",\"xaxis\":\"x4\",\"yaxis\":\"y4\"},{\"type\":\"scatter\",\"name\":null,\"showlegend\":false,\"mode\":\"markers\",\"x\":[\"Enhanced Prompt\"],\"y\":[0.7750000000000001],\"marker\":{\"color\":\"#4daf4a\",\"size\":20,\"symbol\":\"32\"},\"line\":{},\"xaxis\":\"x4\",\"yaxis\":\"y4\"},{\"type\":\"box\",\"name\":\"Hybrid Prompt\",\"showlegend\":false,\"x\":[\"Hybrid Prompt\",\"Hybrid Prompt\",\"Hybrid Prompt\",\"Hybrid Prompt\",\"Hybrid Prompt\",\"Hybrid Prompt\",\"Hybrid Prompt\",\"Hybrid Prompt\"],\"y\":[1.0,1.0,1.0,0.7,0.3,1.0,0.7,0.7],\"marker\":{\"color\":\"#377eb8\",\"size\":10},\"line\":{\"color\":\"rgba(0,0,0,0)\"},\"boxpoints\":\"all\",\"notched\":false,\"jitter\":0.9,\"BoxPoints\":\"all\",\"fillcolor\":\"rgba(0,0,0,0)\",\"xaxis\":\"x4\",\"yaxis\":\"y4\"},{\"type\":\"scatter\",\"name\":null,\"showlegend\":false,\"mode\":\"markers\",\"x\":[\"Hybrid Prompt\"],\"y\":[0.8],\"marker\":{\"color\":\"#377eb8\",\"size\":20,\"symbol\":\"32\"},\"line\":{},\"xaxis\":\"x4\",\"yaxis\":\"y4\"}];\n",
       "        var layout = {\"width\":1600,\"height\":1200,\"template\":{\"layout\":{\"paper_bgcolor\":\"white\",\"plot_bgcolor\":\"white\",\"xaxis\":{\"ticks\":\"inside\",\"mirror\":\"all\",\"showline\":true,\"zeroline\":true},\"yaxis\":{\"ticks\":\"inside\",\"mirror\":\"all\",\"showline\":true,\"zeroline\":true}},\"data\":{}},\"yaxis\":{\"title\":{},\"range\":[0.0,1.2]},\"xaxis\":{\"title\":{},\"showgrid\":false},\"yaxis2\":{\"title\":{},\"range\":[0.0,1.2]},\"xaxis2\":{\"title\":{},\"showgrid\":false},\"yaxis3\":{\"title\":{},\"range\":[0.0,1.2]},\"xaxis3\":{\"title\":{},\"showgrid\":false},\"yaxis4\":{\"title\":{},\"range\":[0.0,1.2]},\"xaxis4\":{\"title\":{},\"showgrid\":false},\"annotations\":[{\"x\":0.18,\"y\":1.05,\"font\":{\"size\":25.0,\"color\":\"#000\"},\"showarrow\":false,\"text\":\"Relevance\",\"xref\":\"paper\",\"yref\":\"paper\"},{\"x\":0.82,\"y\":1.05,\"font\":{\"size\":25.0,\"color\":\"#000\"},\"showarrow\":false,\"text\":\"Coherence\",\"xref\":\"paper\",\"yref\":\"paper\"},{\"x\":0.18,\"y\":0.48,\"font\":{\"size\":25.0,\"color\":\"#000\"},\"showarrow\":false,\"text\":\"Factual Consistency\",\"xref\":\"paper\",\"yref\":\"paper\"},{\"x\":0.82,\"y\":0.48,\"font\":{\"size\":25.0,\"color\":\"#000\"},\"showarrow\":false,\"text\":\"Fluency\",\"xref\":\"paper\",\"yref\":\"paper\"},{\"x\":\"Basic Prompt\",\"y\":0.775,\"font\":{\"size\":15.0},\"showarrow\":false,\"text\":\"0.7250\",\"xref\":\"x1\",\"xshift\":35,\"yref\":\"y1\"},{\"x\":\"Enhanced Prompt\",\"y\":0.8625,\"font\":{\"size\":15.0},\"showarrow\":false,\"text\":\"0.8125\",\"xref\":\"x1\",\"xshift\":35,\"yref\":\"y1\"},{\"x\":\"Hybrid Prompt\",\"y\":0.9375000000000001,\"font\":{\"size\":15.0},\"showarrow\":false,\"text\":\"0.8875\",\"xref\":\"x1\",\"xshift\":35,\"yref\":\"y1\"},{\"x\":\"Basic Prompt\",\"y\":0.7125,\"font\":{\"size\":15.0},\"showarrow\":false,\"text\":\"0.6625\",\"xref\":\"x2\",\"xshift\":35,\"yref\":\"y2\"},{\"x\":\"Enhanced Prompt\",\"y\":0.7375000000000002,\"font\":{\"size\":15.0},\"showarrow\":false,\"text\":\"0.6875\",\"xref\":\"x2\",\"xshift\":35,\"yref\":\"y2\"},{\"x\":\"Hybrid Prompt\",\"y\":0.8250000000000001,\"font\":{\"size\":15.0},\"showarrow\":false,\"text\":\"0.7750\",\"xref\":\"x2\",\"xshift\":35,\"yref\":\"y2\"},{\"x\":\"Basic Prompt\",\"y\":0.7125,\"font\":{\"size\":15.0},\"showarrow\":false,\"text\":\"0.6625\",\"xref\":\"x3\",\"xshift\":35,\"yref\":\"y3\"},{\"x\":\"Enhanced Prompt\",\"y\":0.8500000000000001,\"font\":{\"size\":15.0},\"showarrow\":false,\"text\":\"0.8000\",\"xref\":\"x3\",\"xshift\":35,\"yref\":\"y3\"},{\"x\":\"Hybrid Prompt\",\"y\":0.8875000000000001,\"font\":{\"size\":15.0},\"showarrow\":false,\"text\":\"0.8375\",\"xref\":\"x3\",\"xshift\":35,\"yref\":\"y3\"},{\"x\":\"Basic Prompt\",\"y\":0.8500000000000001,\"font\":{\"size\":15.0},\"showarrow\":false,\"text\":\"0.8000\",\"xref\":\"x4\",\"xshift\":35,\"yref\":\"y4\"},{\"x\":\"Enhanced Prompt\",\"y\":0.8250000000000002,\"font\":{\"size\":15.0},\"showarrow\":false,\"text\":\"0.7750\",\"xref\":\"x4\",\"xshift\":35,\"yref\":\"y4\"},{\"x\":\"Hybrid Prompt\",\"y\":0.8500000000000001,\"font\":{\"size\":15.0},\"showarrow\":false,\"text\":\"0.8000\",\"xref\":\"x4\",\"xshift\":35,\"yref\":\"y4\"},{\"x\":-0.025,\"y\":0.5,\"font\":{\"size\":30.0},\"showarrow\":false,\"text\":\"Evaluation Score\",\"textangle\":-90.0,\"xanchor\":\"right\",\"xref\":\"paper\",\"yanchor\":\"middle\",\"yref\":\"paper\"}],\"legend\":{\"font\":{\"size\":20.0},\"orientation\":\"h\",\"traceorder\":\"normal\",\"x\":0.5,\"xanchor\":\"center\",\"y\":-0.08,\"yanchor\":\"bottom\"},\"grid\":{\"subplots\":[[\"xy\",\"x2y2\"],[\"x3y3\",\"x4y4\"]],\"rows\":2,\"columns\":2,\"roworder\":\"top to bottom\",\"xgap\":0.15,\"ygap\":0.15}};\n",
       "        var config = {\"responsive\":true};\n",
       "        Plotly.newPlot('fc5f6c48-89a4-40b2-bb44-7472f7952b5a', data, layout, config);\n",
       "    });\n",
       "};\n",
       "if ((typeof(requirejs) !==  typeof(Function)) || (typeof(requirejs.config) !== typeof(Function))) {\n",
       "    var script = document.createElement(\"script\");\n",
       "    script.setAttribute(\"charset\", \"utf-8\");\n",
       "    script.setAttribute(\"src\", \"https://cdnjs.cloudflare.com/ajax/libs/require.js/2.3.6/require.min.js\");\n",
       "    script.onload = function(){\n",
       "        renderPlotly_fc5f6c4889a440b2bb447472f7952b5a();\n",
       "    };\n",
       "    document.getElementsByTagName(\"head\")[0].appendChild(script);\n",
       "}\n",
       "else {\n",
       "    renderPlotly_fc5f6c4889a440b2bb447472f7952b5a();\n",
       "}\n",
       "</script></div>"
      ]
     },
     "metadata": {},
     "output_type": "display_data"
    }
   ],
   "source": [
    "// Chart CSB \n",
    "\n",
    "\n",
    "let relevanceBP2 = [0.7;0.7;0.7;1;0.3;0.7;0.7;1]\n",
    "let relevanceEP2 = [0.7;0.7;0.7;1;0.7;1;0.7;1]\n",
    "let relevanceHP2 = [0.7;1;1;1;0.7;0.7;1;1]\n",
    "\n",
    "let coherenceBP2 = [1.0;0.7;1;0.7;0.3;0.3;0.3;1]\n",
    "let coherenceEP2 = [0.7;0.3;1;0.7;0.7;0.7;0.7;0.7]\n",
    "let coherenceHP2 = [0.7;0.7;1;0.7;0.7;0.7;1;0.7]\n",
    "\n",
    "let facConBP2 = [0.7;1;1;0.7;0.3;0.3;0.3;1]\n",
    "let facConEP2 = [1.0;0.7;1;0.7;0.3;1;0.7;1]\n",
    "let facConHP2 = [1.0;1;1;1;0.7;0.3;0.7;1]\n",
    "\n",
    "let fluencyBP2 = [0.7;1;1;0.7;0.3;1;0.7;1]\n",
    "let fluencyEP2 = [1.0;1;0.7;0.7;0.7;0.7;0.7;0.7]\n",
    "let fluencyHP2 = [1.0;1;1;0.7;0.3;1;0.7;0.7]\n",
    "\n",
    "let dataRelevance2 =\n",
    "    [ \"Basic Prompt\", \"#e41a1c\", relevanceBP2\n",
    "      \"Enhanced Prompt\", \"#4daf4a\", relevanceEP2\n",
    "      \"Hybrid Prompt\", \"#377eb8\", relevanceHP2 ]\n",
    "\n",
    "let dataCoherence2 =\n",
    "    [ \"Basic Prompt\", \"#e41a1c\", coherenceBP2\n",
    "      \"Enhanced Prompt\", \"#4daf4a\", coherenceEP2\n",
    "      \"Hybrid Prompt\", \"#377eb8\", coherenceHP2 ]\n",
    "\n",
    "let dataFactualConsistency2 =\n",
    "    [ \"Basic Prompt\", \"#e41a1c\", facConBP2\n",
    "      \"Enhanced Prompt\", \"#4daf4a\", facConEP2\n",
    "      \"Hybrid Prompt\", \"#377eb8\", facConHP2 ]\n",
    "\n",
    "let dataFluency2 =\n",
    "    [ \"Basic Prompt\", \"#e41a1c\", fluencyBP2\n",
    "      \"Enhanced Prompt\", \"#4daf4a\", fluencyEP2\n",
    "      \"Hybrid Prompt\", \"#377eb8\", fluencyHP2 ]\n",
    "\n",
    "let relPoints2, relAnnots2 = List.unzip (pointsWithErrorBarsAndScatter dataRelevance2 1 true)\n",
    "let cohPoints2, cohAnnots2 = List.unzip (pointsWithErrorBarsAndScatter dataCoherence2 2 false)\n",
    "let facPoints2, facAnnots2 = List.unzip (pointsWithErrorBarsAndScatter dataFactualConsistency2 3 false)\n",
    "let fluePoints2, flueAnnots2 = List.unzip (pointsWithErrorBarsAndScatter dataFluency2 4 false)\n",
    "\n",
    "\n",
    "let finalChart3 =\n",
    "    Chart.combine(relPoints2 @ cohPoints2 @ facPoints2 @ fluePoints2)\n",
    "    |> Chart.withAnnotations(titleAnnotations @ relAnnots2 @ cohAnnots2 @ facAnnots2 @ flueAnnots2 @ [yAxisGlobalTitle])\n",
    "    |> Chart.withLegend(LayoutObjects.Legend.init(Orientation = Orientation.Horizontal, Font = Font.init(Size = 20), X = 0.5, XAnchor = XAnchorPosition.Center, Y = -0.08,YAnchor = YAnchorPosition.Bottom, TraceOrder = TraceOrder.Normal))//|> Chart.withLegend(LayoutObjects.Legend.init(X = 1.02, Y = 0.5, XAnchor = XAnchorPosition.Left, YAnchor = YAnchorPosition.Middle)) //Title = Title.init(\"Prompt Type\") , \n",
    "    |> Chart.withLayoutGrid(LayoutObjects.LayoutGrid.init(\n",
    "        Rows= 2, \n",
    "        Columns = 2, \n",
    "        SubPlots = \n",
    "                [| \n",
    "                    [| (StyleParam.LinearAxisId.X 1, StyleParam.LinearAxisId.Y 1); \n",
    "                       (StyleParam.LinearAxisId.X 2, StyleParam.LinearAxisId.Y 2) |]\n",
    "                    [| (StyleParam.LinearAxisId.X 3, StyleParam.LinearAxisId.Y 3); \n",
    "                       (StyleParam.LinearAxisId.X 4, StyleParam.LinearAxisId.Y 4) |]\n",
    "                |],\n",
    "        RowOrder = LayoutGridRowOrder.TopToBottom,\n",
    "        XGap = 0.15,\n",
    "        YGap = 0.15\n",
    "    ))\n",
    "    |> Chart.withSize(1600, 1200)\n",
    "    |> Chart.withTemplate(ChartTemplates.lightMirrored)\n",
    "\n",
    "\n",
    "finalChart3\n"
   ]
  },
  {
   "cell_type": "code",
   "execution_count": 9,
   "id": "30408ecd",
   "metadata": {
    "language_info": {
     "name": "polyglot-notebook"
    },
    "polyglot_notebook": {
     "kernelName": "fsharp"
    }
   },
   "outputs": [
    {
     "data": {
      "text/html": [
       "<div><div id=\"bb1b08cb-925e-4d68-ad76-0720208781c8\"><!-- Plotly chart will be drawn inside this DIV --></div><script type=\"text/javascript\">\n",
       "var renderPlotly_bb1b08cb925e4d68ad760720208781c8 = function() {\n",
       "    var fsharpPlotlyRequire = requirejs.config({context:'fsharp-plotly',paths:{plotly:'https://cdn.plot.ly/plotly-2.27.1.min'}}) || require;\n",
       "    fsharpPlotlyRequire(['plotly'], function(Plotly) {\n",
       "        var data = [{\"type\":\"bar\",\"name\":\"Strongly Disagree\",\"x\":[0,0,0],\"y\":[\"Hybrid Prompt\",\"Enhanced Prompt\",\"Basic Prompt\"],\"orientation\":\"h\",\"marker\":{\"color\":\"#d73027\",\"pattern\":{}}},{\"type\":\"bar\",\"name\":\"Disagree\",\"x\":[1,1,1],\"y\":[\"Hybrid Prompt\",\"Enhanced Prompt\",\"Basic Prompt\"],\"orientation\":\"h\",\"marker\":{\"color\":\"#fc8d59\",\"pattern\":{}}},{\"type\":\"bar\",\"name\":\"Agree\",\"x\":[6,5,3],\"y\":[\"Hybrid Prompt\",\"Enhanced Prompt\",\"Basic Prompt\"],\"orientation\":\"h\",\"marker\":{\"color\":\"#91bfdb\",\"pattern\":{}}},{\"type\":\"bar\",\"name\":\"Strongly Agree\",\"x\":[1,2,4],\"y\":[\"Hybrid Prompt\",\"Enhanced Prompt\",\"Basic Prompt\"],\"orientation\":\"h\",\"marker\":{\"color\":\"#4575b4\",\"pattern\":{}}}];\n",
       "        var layout = {\"width\":1200,\"height\":500,\"template\":{\"layout\":{\"title\":{\"x\":0.05},\"font\":{\"color\":\"rgba(42, 63, 95, 1.0)\"},\"paper_bgcolor\":\"rgba(255, 255, 255, 1.0)\",\"plot_bgcolor\":\"rgba(229, 236, 246, 1.0)\",\"autotypenumbers\":\"strict\",\"colorscale\":{\"diverging\":[[0.0,\"#8e0152\"],[0.1,\"#c51b7d\"],[0.2,\"#de77ae\"],[0.3,\"#f1b6da\"],[0.4,\"#fde0ef\"],[0.5,\"#f7f7f7\"],[0.6,\"#e6f5d0\"],[0.7,\"#b8e186\"],[0.8,\"#7fbc41\"],[0.9,\"#4d9221\"],[1.0,\"#276419\"]],\"sequential\":[[0.0,\"#0d0887\"],[0.1111111111111111,\"#46039f\"],[0.2222222222222222,\"#7201a8\"],[0.3333333333333333,\"#9c179e\"],[0.4444444444444444,\"#bd3786\"],[0.5555555555555556,\"#d8576b\"],[0.6666666666666666,\"#ed7953\"],[0.7777777777777778,\"#fb9f3a\"],[0.8888888888888888,\"#fdca26\"],[1.0,\"#f0f921\"]],\"sequentialminus\":[[0.0,\"#0d0887\"],[0.1111111111111111,\"#46039f\"],[0.2222222222222222,\"#7201a8\"],[0.3333333333333333,\"#9c179e\"],[0.4444444444444444,\"#bd3786\"],[0.5555555555555556,\"#d8576b\"],[0.6666666666666666,\"#ed7953\"],[0.7777777777777778,\"#fb9f3a\"],[0.8888888888888888,\"#fdca26\"],[1.0,\"#f0f921\"]]},\"hovermode\":\"closest\",\"hoverlabel\":{\"align\":\"left\"},\"coloraxis\":{\"colorbar\":{\"outlinewidth\":0.0,\"ticks\":\"\"}},\"geo\":{\"showland\":true,\"landcolor\":\"rgba(229, 236, 246, 1.0)\",\"showlakes\":true,\"lakecolor\":\"rgba(255, 255, 255, 1.0)\",\"subunitcolor\":\"rgba(255, 255, 255, 1.0)\",\"bgcolor\":\"rgba(255, 255, 255, 1.0)\"},\"mapbox\":{\"style\":\"light\"},\"polar\":{\"bgcolor\":\"rgba(229, 236, 246, 1.0)\",\"radialaxis\":{\"linecolor\":\"rgba(255, 255, 255, 1.0)\",\"gridcolor\":\"rgba(255, 255, 255, 1.0)\",\"ticks\":\"\"},\"angularaxis\":{\"linecolor\":\"rgba(255, 255, 255, 1.0)\",\"gridcolor\":\"rgba(255, 255, 255, 1.0)\",\"ticks\":\"\"}},\"scene\":{\"xaxis\":{\"ticks\":\"\",\"linecolor\":\"rgba(255, 255, 255, 1.0)\",\"gridcolor\":\"rgba(255, 255, 255, 1.0)\",\"gridwidth\":2.0,\"zerolinecolor\":\"rgba(255, 255, 255, 1.0)\",\"backgroundcolor\":\"rgba(229, 236, 246, 1.0)\",\"showbackground\":true},\"yaxis\":{\"ticks\":\"\",\"linecolor\":\"rgba(255, 255, 255, 1.0)\",\"gridcolor\":\"rgba(255, 255, 255, 1.0)\",\"gridwidth\":2.0,\"zerolinecolor\":\"rgba(255, 255, 255, 1.0)\",\"backgroundcolor\":\"rgba(229, 236, 246, 1.0)\",\"showbackground\":true},\"zaxis\":{\"ticks\":\"\",\"linecolor\":\"rgba(255, 255, 255, 1.0)\",\"gridcolor\":\"rgba(255, 255, 255, 1.0)\",\"gridwidth\":2.0,\"zerolinecolor\":\"rgba(255, 255, 255, 1.0)\",\"backgroundcolor\":\"rgba(229, 236, 246, 1.0)\",\"showbackground\":true}},\"ternary\":{\"aaxis\":{\"ticks\":\"\",\"linecolor\":\"rgba(255, 255, 255, 1.0)\",\"gridcolor\":\"rgba(255, 255, 255, 1.0)\"},\"baxis\":{\"ticks\":\"\",\"linecolor\":\"rgba(255, 255, 255, 1.0)\",\"gridcolor\":\"rgba(255, 255, 255, 1.0)\"},\"caxis\":{\"ticks\":\"\",\"linecolor\":\"rgba(255, 255, 255, 1.0)\",\"gridcolor\":\"rgba(255, 255, 255, 1.0)\"},\"bgcolor\":\"rgba(229, 236, 246, 1.0)\"},\"xaxis\":{\"title\":{\"standoff\":15},\"ticks\":\"\",\"automargin\":\"height+width+left+right+top+bottom\",\"linecolor\":\"rgba(255, 255, 255, 1.0)\",\"gridcolor\":\"rgba(255, 255, 255, 1.0)\",\"zerolinecolor\":\"rgba(255, 255, 255, 1.0)\",\"zerolinewidth\":2.0},\"yaxis\":{\"title\":{\"standoff\":15},\"ticks\":\"\",\"automargin\":\"height+width+left+right+top+bottom\",\"linecolor\":\"rgba(255, 255, 255, 1.0)\",\"gridcolor\":\"rgba(255, 255, 255, 1.0)\",\"zerolinecolor\":\"rgba(255, 255, 255, 1.0)\",\"zerolinewidth\":2.0},\"annotationdefaults\":{\"arrowcolor\":\"#2a3f5f\",\"arrowhead\":0,\"arrowwidth\":1},\"shapedefaults\":{\"line\":{\"color\":\"rgba(42, 63, 95, 1.0)\"}},\"colorway\":[\"rgba(99, 110, 250, 1.0)\",\"rgba(239, 85, 59, 1.0)\",\"rgba(0, 204, 150, 1.0)\",\"rgba(171, 99, 250, 1.0)\",\"rgba(255, 161, 90, 1.0)\",\"rgba(25, 211, 243, 1.0)\",\"rgba(255, 102, 146, 1.0)\",\"rgba(182, 232, 128, 1.0)\",\"rgba(255, 151, 255, 1.0)\",\"rgba(254, 203, 82, 1.0)\"]},\"data\":{\"bar\":[{\"type\":\"bar\",\"marker\":{\"line\":{\"color\":\"rgba(229, 236, 246, 1.0)\",\"width\":0.5},\"pattern\":{\"fillmode\":\"overlay\",\"size\":10,\"solidity\":0.2}},\"error_x\":{\"color\":\"rgba(42, 63, 95, 1.0)\"},\"error_y\":{\"color\":\"rgba(42, 63, 95, 1.0)\"}}],\"barpolar\":[{\"type\":\"barpolar\",\"marker\":{\"line\":{\"color\":\"rgba(229, 236, 246, 1.0)\",\"width\":0.5},\"pattern\":{\"fillmode\":\"overlay\",\"size\":10,\"solidity\":0.2}}}],\"carpet\":[{\"type\":\"carpet\",\"aaxis\":{\"linecolor\":\"rgba(255, 255, 255, 1.0)\",\"gridcolor\":\"rgba(255, 255, 255, 1.0)\",\"endlinecolor\":\"rgba(42, 63, 95, 1.0)\",\"minorgridcolor\":\"rgba(255, 255, 255, 1.0)\",\"startlinecolor\":\"rgba(42, 63, 95, 1.0)\"},\"baxis\":{\"linecolor\":\"rgba(255, 255, 255, 1.0)\",\"gridcolor\":\"rgba(255, 255, 255, 1.0)\",\"endlinecolor\":\"rgba(42, 63, 95, 1.0)\",\"minorgridcolor\":\"rgba(255, 255, 255, 1.0)\",\"startlinecolor\":\"rgba(42, 63, 95, 1.0)\"}}],\"choropleth\":[{\"type\":\"choropleth\",\"colorbar\":{\"outlinewidth\":0.0,\"ticks\":\"\"},\"colorscale\":[[0.0,\"#0d0887\"],[0.1111111111111111,\"#46039f\"],[0.2222222222222222,\"#7201a8\"],[0.3333333333333333,\"#9c179e\"],[0.4444444444444444,\"#bd3786\"],[0.5555555555555556,\"#d8576b\"],[0.6666666666666666,\"#ed7953\"],[0.7777777777777778,\"#fb9f3a\"],[0.8888888888888888,\"#fdca26\"],[1.0,\"#f0f921\"]]}],\"contour\":[{\"type\":\"contour\",\"colorbar\":{\"outlinewidth\":0.0,\"ticks\":\"\"},\"colorscale\":[[0.0,\"#0d0887\"],[0.1111111111111111,\"#46039f\"],[0.2222222222222222,\"#7201a8\"],[0.3333333333333333,\"#9c179e\"],[0.4444444444444444,\"#bd3786\"],[0.5555555555555556,\"#d8576b\"],[0.6666666666666666,\"#ed7953\"],[0.7777777777777778,\"#fb9f3a\"],[0.8888888888888888,\"#fdca26\"],[1.0,\"#f0f921\"]]}],\"contourcarpet\":[{\"type\":\"contourcarpet\",\"colorbar\":{\"outlinewidth\":0.0,\"ticks\":\"\"}}],\"heatmap\":[{\"type\":\"heatmap\",\"colorbar\":{\"outlinewidth\":0.0,\"ticks\":\"\"},\"colorscale\":[[0.0,\"#0d0887\"],[0.1111111111111111,\"#46039f\"],[0.2222222222222222,\"#7201a8\"],[0.3333333333333333,\"#9c179e\"],[0.4444444444444444,\"#bd3786\"],[0.5555555555555556,\"#d8576b\"],[0.6666666666666666,\"#ed7953\"],[0.7777777777777778,\"#fb9f3a\"],[0.8888888888888888,\"#fdca26\"],[1.0,\"#f0f921\"]]}],\"heatmapgl\":[{\"type\":\"heatmapgl\",\"colorbar\":{\"outlinewidth\":0.0,\"ticks\":\"\"},\"colorscale\":[[0.0,\"#0d0887\"],[0.1111111111111111,\"#46039f\"],[0.2222222222222222,\"#7201a8\"],[0.3333333333333333,\"#9c179e\"],[0.4444444444444444,\"#bd3786\"],[0.5555555555555556,\"#d8576b\"],[0.6666666666666666,\"#ed7953\"],[0.7777777777777778,\"#fb9f3a\"],[0.8888888888888888,\"#fdca26\"],[1.0,\"#f0f921\"]]}],\"histogram\":[{\"type\":\"histogram\",\"marker\":{\"pattern\":{\"fillmode\":\"overlay\",\"size\":10,\"solidity\":0.2}}}],\"histogram2d\":[{\"type\":\"histogram2d\",\"colorbar\":{\"outlinewidth\":0.0,\"ticks\":\"\"},\"colorscale\":[[0.0,\"#0d0887\"],[0.1111111111111111,\"#46039f\"],[0.2222222222222222,\"#7201a8\"],[0.3333333333333333,\"#9c179e\"],[0.4444444444444444,\"#bd3786\"],[0.5555555555555556,\"#d8576b\"],[0.6666666666666666,\"#ed7953\"],[0.7777777777777778,\"#fb9f3a\"],[0.8888888888888888,\"#fdca26\"],[1.0,\"#f0f921\"]]}],\"histogram2dcontour\":[{\"type\":\"histogram2dcontour\",\"colorbar\":{\"outlinewidth\":0.0,\"ticks\":\"\"},\"colorscale\":[[0.0,\"#0d0887\"],[0.1111111111111111,\"#46039f\"],[0.2222222222222222,\"#7201a8\"],[0.3333333333333333,\"#9c179e\"],[0.4444444444444444,\"#bd3786\"],[0.5555555555555556,\"#d8576b\"],[0.6666666666666666,\"#ed7953\"],[0.7777777777777778,\"#fb9f3a\"],[0.8888888888888888,\"#fdca26\"],[1.0,\"#f0f921\"]]}],\"mesh3d\":[{\"type\":\"mesh3d\",\"colorbar\":{\"outlinewidth\":0.0,\"ticks\":\"\"}}],\"parcoords\":[{\"type\":\"parcoords\",\"line\":{\"colorbar\":{\"outlinewidth\":0.0,\"ticks\":\"\"}}}],\"pie\":[{\"type\":\"pie\",\"automargin\":true}],\"scatter\":[{\"type\":\"scatter\",\"marker\":{\"colorbar\":{\"outlinewidth\":0.0,\"ticks\":\"\"}}}],\"scatter3d\":[{\"type\":\"scatter3d\",\"marker\":{\"colorbar\":{\"outlinewidth\":0.0,\"ticks\":\"\"}},\"line\":{\"colorbar\":{\"outlinewidth\":0.0,\"ticks\":\"\"}}}],\"scattercarpet\":[{\"type\":\"scattercarpet\",\"marker\":{\"colorbar\":{\"outlinewidth\":0.0,\"ticks\":\"\"}}}],\"scattergeo\":[{\"type\":\"scattergeo\",\"marker\":{\"colorbar\":{\"outlinewidth\":0.0,\"ticks\":\"\"}}}],\"scattergl\":[{\"type\":\"scattergl\",\"marker\":{\"colorbar\":{\"outlinewidth\":0.0,\"ticks\":\"\"}}}],\"scattermapbox\":[{\"type\":\"scattermapbox\",\"marker\":{\"colorbar\":{\"outlinewidth\":0.0,\"ticks\":\"\"}}}],\"scatterpolar\":[{\"type\":\"scatterpolar\",\"marker\":{\"colorbar\":{\"outlinewidth\":0.0,\"ticks\":\"\"}}}],\"scatterpolargl\":[{\"type\":\"scatterpolargl\",\"marker\":{\"colorbar\":{\"outlinewidth\":0.0,\"ticks\":\"\"}}}],\"scatterternary\":[{\"type\":\"scatterternary\",\"marker\":{\"colorbar\":{\"outlinewidth\":0.0,\"ticks\":\"\"}}}],\"surface\":[{\"type\":\"surface\",\"colorbar\":{\"outlinewidth\":0.0,\"ticks\":\"\"},\"colorscale\":[[0.0,\"#0d0887\"],[0.1111111111111111,\"#46039f\"],[0.2222222222222222,\"#7201a8\"],[0.3333333333333333,\"#9c179e\"],[0.4444444444444444,\"#bd3786\"],[0.5555555555555556,\"#d8576b\"],[0.6666666666666666,\"#ed7953\"],[0.7777777777777778,\"#fb9f3a\"],[0.8888888888888888,\"#fdca26\"],[1.0,\"#f0f921\"]]}],\"table\":[{\"type\":\"table\",\"cells\":{\"fill\":{\"color\":\"rgba(235, 240, 248, 1.0)\"},\"line\":{\"color\":\"rgba(255, 255, 255, 1.0)\"}},\"header\":{\"fill\":{\"color\":\"rgba(200, 212, 227, 1.0)\"},\"line\":{\"color\":\"rgba(255, 255, 255, 1.0)\"}}}]}},\"paper_bgcolor\":\"White\",\"plot_bgcolor\":\"White\",\"barmode\":\"stack\",\"xaxis\":{\"title\":{},\"range\":[0,8],\"showgrid\":false,\"gridcolor\":\"White\"},\"yaxis\":{\"title\":{},\"showgrid\":false,\"gridcolor\":\"White\"},\"title\":{\"text\":\"Overall Usefulness per Prompt\",\"font\":{\"size\":30.0},\"x\":0.4,\"xanchor\":\"right\"},\"legend\":{\"orientation\":\"h\",\"traceorder\":\"normal\",\"x\":0.5,\"xanchor\":\"center\",\"y\":1.0,\"yanchor\":\"bottom\"}};\n",
       "        var config = {\"responsive\":true};\n",
       "        Plotly.newPlot('bb1b08cb-925e-4d68-ad76-0720208781c8', data, layout, config);\n",
       "    });\n",
       "};\n",
       "if ((typeof(requirejs) !==  typeof(Function)) || (typeof(requirejs.config) !== typeof(Function))) {\n",
       "    var script = document.createElement(\"script\");\n",
       "    script.setAttribute(\"charset\", \"utf-8\");\n",
       "    script.setAttribute(\"src\", \"https://cdnjs.cloudflare.com/ajax/libs/require.js/2.3.6/require.min.js\");\n",
       "    script.onload = function(){\n",
       "        renderPlotly_bb1b08cb925e4d68ad760720208781c8();\n",
       "    };\n",
       "    document.getElementsByTagName(\"head\")[0].appendChild(script);\n",
       "}\n",
       "else {\n",
       "    renderPlotly_bb1b08cb925e4d68ad760720208781c8();\n",
       "}\n",
       "</script></div>"
      ]
     },
     "metadata": {},
     "output_type": "display_data"
    }
   ],
   "source": [
    "// Overall usefulness bar chart \n",
    "\n",
    "\n",
    "let prompts = [\"Basic Prompt\"; \"Enhanced Prompt\"; \"Hybrid Prompt\"]\n",
    "\n",
    "let resBP = [0; 1; 3; 4]\n",
    "let resEP = [0; 1; 5; 2]\n",
    "let resHP = [0; 1; 6; 1]\n",
    "\n",
    "let metrics = [\"Strongly Disagree\"; \"Disagree\"; \"Agree\"; \"Strongly Agree\"]\n",
    "let colors = [\"#d73027\"; \"#fc8d59\"; \"#91bfdb\"; \"#4575b4\"] \n",
    "\n",
    "let usefulChart =\n",
    "    [0 .. 3]\n",
    "    |> List.map (fun i ->\n",
    "        let values = [resBP.[i]; resEP.[i]; resHP.[i]]\n",
    "        let data = List.zip (List.rev prompts) (List.rev values)\n",
    "        Chart.Bar(\n",
    "            keysValues = data,\n",
    "            Name = metrics.[i],\n",
    "            MarkerColor = Color.fromString colors.[i]\n",
    "        )\n",
    "        \n",
    "    )\n",
    "    |> Chart.combine //color \"#e0e0e0\"\n",
    "    |> Chart.withLayoutStyle(BarMode = BarMode.Stack, PaperBGColor = Color.fromString(\"White\"), PlotBGColor = Color.fromString(\"White\"))\n",
    "    |> Chart.withXAxisStyle(MinMax = (0 , 8), ShowGrid = false, GridColor = Color.fromString(\"White\"))\n",
    "    |> Chart.withYAxisStyle(ShowGrid = false, GridColor = Color.fromString(\"White\"))\n",
    "    |> Chart.withTitle(Title.init(Text = \"Overall Usefulness per Prompt\", Font = Font.init(Size = 30),X = 0.4, XAnchor = XAnchorPosition.Right))\n",
    "    |> Chart.withLegend(LayoutObjects.Legend.init(Orientation = Orientation.Horizontal, X = 0.5, XAnchor = XAnchorPosition.Center, Y = 1,YAnchor = YAnchorPosition.Bottom, TraceOrder = TraceOrder.Normal))\n",
    "    |> Chart.withSize(1200,500)\n",
    "\n",
    "usefulChart "
   ]
  },
  {
   "cell_type": "code",
   "execution_count": 10,
   "id": "8f732623",
   "metadata": {
    "language_info": {
     "name": "polyglot-notebook"
    },
    "polyglot_notebook": {
     "kernelName": "fsharp"
    }
   },
   "outputs": [
    {
     "data": {
      "text/html": [
       "<div><div id=\"d9336117-9aa1-4eef-ab09-55d973e01c90\"><!-- Plotly chart will be drawn inside this DIV --></div><script type=\"text/javascript\">\n",
       "var renderPlotly_d93361179aa14eefab0955d973e01c90 = function() {\n",
       "    var fsharpPlotlyRequire = requirejs.config({context:'fsharp-plotly',paths:{plotly:'https://cdn.plot.ly/plotly-2.27.1.min'}}) || require;\n",
       "    fsharpPlotlyRequire(['plotly'], function(Plotly) {\n",
       "        var data = [{\"type\":\"bar\",\"name\":\"Strongly Disagree\",\"x\":[0,0,0],\"y\":[\"Hybrid Prompt\",\"Enhanced Prompt\",\"Basic Prompt\"],\"orientation\":\"h\",\"marker\":{\"color\":\"#d73027\",\"pattern\":{}}},{\"type\":\"bar\",\"name\":\"Disagree\",\"x\":[1,0,2],\"y\":[\"Hybrid Prompt\",\"Enhanced Prompt\",\"Basic Prompt\"],\"orientation\":\"h\",\"marker\":{\"color\":\"#fc8d59\",\"pattern\":{}}},{\"type\":\"bar\",\"name\":\"Agree\",\"x\":[3,4,5],\"y\":[\"Hybrid Prompt\",\"Enhanced Prompt\",\"Basic Prompt\"],\"orientation\":\"h\",\"marker\":{\"color\":\"#91bfdb\",\"pattern\":{}}},{\"type\":\"bar\",\"name\":\"Strongly Agree\",\"x\":[4,4,1],\"y\":[\"Hybrid Prompt\",\"Enhanced Prompt\",\"Basic Prompt\"],\"orientation\":\"h\",\"marker\":{\"color\":\"#4575b4\",\"pattern\":{}}}];\n",
       "        var layout = {\"width\":1200,\"height\":500,\"template\":{\"layout\":{\"title\":{\"x\":0.05},\"font\":{\"color\":\"rgba(42, 63, 95, 1.0)\"},\"paper_bgcolor\":\"rgba(255, 255, 255, 1.0)\",\"plot_bgcolor\":\"rgba(229, 236, 246, 1.0)\",\"autotypenumbers\":\"strict\",\"colorscale\":{\"diverging\":[[0.0,\"#8e0152\"],[0.1,\"#c51b7d\"],[0.2,\"#de77ae\"],[0.3,\"#f1b6da\"],[0.4,\"#fde0ef\"],[0.5,\"#f7f7f7\"],[0.6,\"#e6f5d0\"],[0.7,\"#b8e186\"],[0.8,\"#7fbc41\"],[0.9,\"#4d9221\"],[1.0,\"#276419\"]],\"sequential\":[[0.0,\"#0d0887\"],[0.1111111111111111,\"#46039f\"],[0.2222222222222222,\"#7201a8\"],[0.3333333333333333,\"#9c179e\"],[0.4444444444444444,\"#bd3786\"],[0.5555555555555556,\"#d8576b\"],[0.6666666666666666,\"#ed7953\"],[0.7777777777777778,\"#fb9f3a\"],[0.8888888888888888,\"#fdca26\"],[1.0,\"#f0f921\"]],\"sequentialminus\":[[0.0,\"#0d0887\"],[0.1111111111111111,\"#46039f\"],[0.2222222222222222,\"#7201a8\"],[0.3333333333333333,\"#9c179e\"],[0.4444444444444444,\"#bd3786\"],[0.5555555555555556,\"#d8576b\"],[0.6666666666666666,\"#ed7953\"],[0.7777777777777778,\"#fb9f3a\"],[0.8888888888888888,\"#fdca26\"],[1.0,\"#f0f921\"]]},\"hovermode\":\"closest\",\"hoverlabel\":{\"align\":\"left\"},\"coloraxis\":{\"colorbar\":{\"outlinewidth\":0.0,\"ticks\":\"\"}},\"geo\":{\"showland\":true,\"landcolor\":\"rgba(229, 236, 246, 1.0)\",\"showlakes\":true,\"lakecolor\":\"rgba(255, 255, 255, 1.0)\",\"subunitcolor\":\"rgba(255, 255, 255, 1.0)\",\"bgcolor\":\"rgba(255, 255, 255, 1.0)\"},\"mapbox\":{\"style\":\"light\"},\"polar\":{\"bgcolor\":\"rgba(229, 236, 246, 1.0)\",\"radialaxis\":{\"linecolor\":\"rgba(255, 255, 255, 1.0)\",\"gridcolor\":\"rgba(255, 255, 255, 1.0)\",\"ticks\":\"\"},\"angularaxis\":{\"linecolor\":\"rgba(255, 255, 255, 1.0)\",\"gridcolor\":\"rgba(255, 255, 255, 1.0)\",\"ticks\":\"\"}},\"scene\":{\"xaxis\":{\"ticks\":\"\",\"linecolor\":\"rgba(255, 255, 255, 1.0)\",\"gridcolor\":\"rgba(255, 255, 255, 1.0)\",\"gridwidth\":2.0,\"zerolinecolor\":\"rgba(255, 255, 255, 1.0)\",\"backgroundcolor\":\"rgba(229, 236, 246, 1.0)\",\"showbackground\":true},\"yaxis\":{\"ticks\":\"\",\"linecolor\":\"rgba(255, 255, 255, 1.0)\",\"gridcolor\":\"rgba(255, 255, 255, 1.0)\",\"gridwidth\":2.0,\"zerolinecolor\":\"rgba(255, 255, 255, 1.0)\",\"backgroundcolor\":\"rgba(229, 236, 246, 1.0)\",\"showbackground\":true},\"zaxis\":{\"ticks\":\"\",\"linecolor\":\"rgba(255, 255, 255, 1.0)\",\"gridcolor\":\"rgba(255, 255, 255, 1.0)\",\"gridwidth\":2.0,\"zerolinecolor\":\"rgba(255, 255, 255, 1.0)\",\"backgroundcolor\":\"rgba(229, 236, 246, 1.0)\",\"showbackground\":true}},\"ternary\":{\"aaxis\":{\"ticks\":\"\",\"linecolor\":\"rgba(255, 255, 255, 1.0)\",\"gridcolor\":\"rgba(255, 255, 255, 1.0)\"},\"baxis\":{\"ticks\":\"\",\"linecolor\":\"rgba(255, 255, 255, 1.0)\",\"gridcolor\":\"rgba(255, 255, 255, 1.0)\"},\"caxis\":{\"ticks\":\"\",\"linecolor\":\"rgba(255, 255, 255, 1.0)\",\"gridcolor\":\"rgba(255, 255, 255, 1.0)\"},\"bgcolor\":\"rgba(229, 236, 246, 1.0)\"},\"xaxis\":{\"title\":{\"standoff\":15},\"ticks\":\"\",\"automargin\":\"height+width+left+right+top+bottom\",\"linecolor\":\"rgba(255, 255, 255, 1.0)\",\"gridcolor\":\"rgba(255, 255, 255, 1.0)\",\"zerolinecolor\":\"rgba(255, 255, 255, 1.0)\",\"zerolinewidth\":2.0},\"yaxis\":{\"title\":{\"standoff\":15},\"ticks\":\"\",\"automargin\":\"height+width+left+right+top+bottom\",\"linecolor\":\"rgba(255, 255, 255, 1.0)\",\"gridcolor\":\"rgba(255, 255, 255, 1.0)\",\"zerolinecolor\":\"rgba(255, 255, 255, 1.0)\",\"zerolinewidth\":2.0},\"annotationdefaults\":{\"arrowcolor\":\"#2a3f5f\",\"arrowhead\":0,\"arrowwidth\":1},\"shapedefaults\":{\"line\":{\"color\":\"rgba(42, 63, 95, 1.0)\"}},\"colorway\":[\"rgba(99, 110, 250, 1.0)\",\"rgba(239, 85, 59, 1.0)\",\"rgba(0, 204, 150, 1.0)\",\"rgba(171, 99, 250, 1.0)\",\"rgba(255, 161, 90, 1.0)\",\"rgba(25, 211, 243, 1.0)\",\"rgba(255, 102, 146, 1.0)\",\"rgba(182, 232, 128, 1.0)\",\"rgba(255, 151, 255, 1.0)\",\"rgba(254, 203, 82, 1.0)\"]},\"data\":{\"bar\":[{\"type\":\"bar\",\"marker\":{\"line\":{\"color\":\"rgba(229, 236, 246, 1.0)\",\"width\":0.5},\"pattern\":{\"fillmode\":\"overlay\",\"size\":10,\"solidity\":0.2}},\"error_x\":{\"color\":\"rgba(42, 63, 95, 1.0)\"},\"error_y\":{\"color\":\"rgba(42, 63, 95, 1.0)\"}}],\"barpolar\":[{\"type\":\"barpolar\",\"marker\":{\"line\":{\"color\":\"rgba(229, 236, 246, 1.0)\",\"width\":0.5},\"pattern\":{\"fillmode\":\"overlay\",\"size\":10,\"solidity\":0.2}}}],\"carpet\":[{\"type\":\"carpet\",\"aaxis\":{\"linecolor\":\"rgba(255, 255, 255, 1.0)\",\"gridcolor\":\"rgba(255, 255, 255, 1.0)\",\"endlinecolor\":\"rgba(42, 63, 95, 1.0)\",\"minorgridcolor\":\"rgba(255, 255, 255, 1.0)\",\"startlinecolor\":\"rgba(42, 63, 95, 1.0)\"},\"baxis\":{\"linecolor\":\"rgba(255, 255, 255, 1.0)\",\"gridcolor\":\"rgba(255, 255, 255, 1.0)\",\"endlinecolor\":\"rgba(42, 63, 95, 1.0)\",\"minorgridcolor\":\"rgba(255, 255, 255, 1.0)\",\"startlinecolor\":\"rgba(42, 63, 95, 1.0)\"}}],\"choropleth\":[{\"type\":\"choropleth\",\"colorbar\":{\"outlinewidth\":0.0,\"ticks\":\"\"},\"colorscale\":[[0.0,\"#0d0887\"],[0.1111111111111111,\"#46039f\"],[0.2222222222222222,\"#7201a8\"],[0.3333333333333333,\"#9c179e\"],[0.4444444444444444,\"#bd3786\"],[0.5555555555555556,\"#d8576b\"],[0.6666666666666666,\"#ed7953\"],[0.7777777777777778,\"#fb9f3a\"],[0.8888888888888888,\"#fdca26\"],[1.0,\"#f0f921\"]]}],\"contour\":[{\"type\":\"contour\",\"colorbar\":{\"outlinewidth\":0.0,\"ticks\":\"\"},\"colorscale\":[[0.0,\"#0d0887\"],[0.1111111111111111,\"#46039f\"],[0.2222222222222222,\"#7201a8\"],[0.3333333333333333,\"#9c179e\"],[0.4444444444444444,\"#bd3786\"],[0.5555555555555556,\"#d8576b\"],[0.6666666666666666,\"#ed7953\"],[0.7777777777777778,\"#fb9f3a\"],[0.8888888888888888,\"#fdca26\"],[1.0,\"#f0f921\"]]}],\"contourcarpet\":[{\"type\":\"contourcarpet\",\"colorbar\":{\"outlinewidth\":0.0,\"ticks\":\"\"}}],\"heatmap\":[{\"type\":\"heatmap\",\"colorbar\":{\"outlinewidth\":0.0,\"ticks\":\"\"},\"colorscale\":[[0.0,\"#0d0887\"],[0.1111111111111111,\"#46039f\"],[0.2222222222222222,\"#7201a8\"],[0.3333333333333333,\"#9c179e\"],[0.4444444444444444,\"#bd3786\"],[0.5555555555555556,\"#d8576b\"],[0.6666666666666666,\"#ed7953\"],[0.7777777777777778,\"#fb9f3a\"],[0.8888888888888888,\"#fdca26\"],[1.0,\"#f0f921\"]]}],\"heatmapgl\":[{\"type\":\"heatmapgl\",\"colorbar\":{\"outlinewidth\":0.0,\"ticks\":\"\"},\"colorscale\":[[0.0,\"#0d0887\"],[0.1111111111111111,\"#46039f\"],[0.2222222222222222,\"#7201a8\"],[0.3333333333333333,\"#9c179e\"],[0.4444444444444444,\"#bd3786\"],[0.5555555555555556,\"#d8576b\"],[0.6666666666666666,\"#ed7953\"],[0.7777777777777778,\"#fb9f3a\"],[0.8888888888888888,\"#fdca26\"],[1.0,\"#f0f921\"]]}],\"histogram\":[{\"type\":\"histogram\",\"marker\":{\"pattern\":{\"fillmode\":\"overlay\",\"size\":10,\"solidity\":0.2}}}],\"histogram2d\":[{\"type\":\"histogram2d\",\"colorbar\":{\"outlinewidth\":0.0,\"ticks\":\"\"},\"colorscale\":[[0.0,\"#0d0887\"],[0.1111111111111111,\"#46039f\"],[0.2222222222222222,\"#7201a8\"],[0.3333333333333333,\"#9c179e\"],[0.4444444444444444,\"#bd3786\"],[0.5555555555555556,\"#d8576b\"],[0.6666666666666666,\"#ed7953\"],[0.7777777777777778,\"#fb9f3a\"],[0.8888888888888888,\"#fdca26\"],[1.0,\"#f0f921\"]]}],\"histogram2dcontour\":[{\"type\":\"histogram2dcontour\",\"colorbar\":{\"outlinewidth\":0.0,\"ticks\":\"\"},\"colorscale\":[[0.0,\"#0d0887\"],[0.1111111111111111,\"#46039f\"],[0.2222222222222222,\"#7201a8\"],[0.3333333333333333,\"#9c179e\"],[0.4444444444444444,\"#bd3786\"],[0.5555555555555556,\"#d8576b\"],[0.6666666666666666,\"#ed7953\"],[0.7777777777777778,\"#fb9f3a\"],[0.8888888888888888,\"#fdca26\"],[1.0,\"#f0f921\"]]}],\"mesh3d\":[{\"type\":\"mesh3d\",\"colorbar\":{\"outlinewidth\":0.0,\"ticks\":\"\"}}],\"parcoords\":[{\"type\":\"parcoords\",\"line\":{\"colorbar\":{\"outlinewidth\":0.0,\"ticks\":\"\"}}}],\"pie\":[{\"type\":\"pie\",\"automargin\":true}],\"scatter\":[{\"type\":\"scatter\",\"marker\":{\"colorbar\":{\"outlinewidth\":0.0,\"ticks\":\"\"}}}],\"scatter3d\":[{\"type\":\"scatter3d\",\"marker\":{\"colorbar\":{\"outlinewidth\":0.0,\"ticks\":\"\"}},\"line\":{\"colorbar\":{\"outlinewidth\":0.0,\"ticks\":\"\"}}}],\"scattercarpet\":[{\"type\":\"scattercarpet\",\"marker\":{\"colorbar\":{\"outlinewidth\":0.0,\"ticks\":\"\"}}}],\"scattergeo\":[{\"type\":\"scattergeo\",\"marker\":{\"colorbar\":{\"outlinewidth\":0.0,\"ticks\":\"\"}}}],\"scattergl\":[{\"type\":\"scattergl\",\"marker\":{\"colorbar\":{\"outlinewidth\":0.0,\"ticks\":\"\"}}}],\"scattermapbox\":[{\"type\":\"scattermapbox\",\"marker\":{\"colorbar\":{\"outlinewidth\":0.0,\"ticks\":\"\"}}}],\"scatterpolar\":[{\"type\":\"scatterpolar\",\"marker\":{\"colorbar\":{\"outlinewidth\":0.0,\"ticks\":\"\"}}}],\"scatterpolargl\":[{\"type\":\"scatterpolargl\",\"marker\":{\"colorbar\":{\"outlinewidth\":0.0,\"ticks\":\"\"}}}],\"scatterternary\":[{\"type\":\"scatterternary\",\"marker\":{\"colorbar\":{\"outlinewidth\":0.0,\"ticks\":\"\"}}}],\"surface\":[{\"type\":\"surface\",\"colorbar\":{\"outlinewidth\":0.0,\"ticks\":\"\"},\"colorscale\":[[0.0,\"#0d0887\"],[0.1111111111111111,\"#46039f\"],[0.2222222222222222,\"#7201a8\"],[0.3333333333333333,\"#9c179e\"],[0.4444444444444444,\"#bd3786\"],[0.5555555555555556,\"#d8576b\"],[0.6666666666666666,\"#ed7953\"],[0.7777777777777778,\"#fb9f3a\"],[0.8888888888888888,\"#fdca26\"],[1.0,\"#f0f921\"]]}],\"table\":[{\"type\":\"table\",\"cells\":{\"fill\":{\"color\":\"rgba(235, 240, 248, 1.0)\"},\"line\":{\"color\":\"rgba(255, 255, 255, 1.0)\"}},\"header\":{\"fill\":{\"color\":\"rgba(200, 212, 227, 1.0)\"},\"line\":{\"color\":\"rgba(255, 255, 255, 1.0)\"}}}]}},\"paper_bgcolor\":\"White\",\"plot_bgcolor\":\"White\",\"barmode\":\"stack\",\"xaxis\":{\"title\":{},\"range\":[0,8],\"showgrid\":false,\"gridcolor\":\"White\"},\"yaxis\":{\"title\":{},\"showgrid\":false,\"gridcolor\":\"White\"},\"title\":{\"text\":\"Overall Usefulness per Prompt\",\"font\":{\"size\":30.0},\"x\":0.4,\"xanchor\":\"right\"},\"legend\":{\"orientation\":\"h\",\"traceorder\":\"normal\",\"x\":0.5,\"xanchor\":\"center\",\"y\":1.0,\"yanchor\":\"bottom\"}};\n",
       "        var config = {\"responsive\":true};\n",
       "        Plotly.newPlot('d9336117-9aa1-4eef-ab09-55d973e01c90', data, layout, config);\n",
       "    });\n",
       "};\n",
       "if ((typeof(requirejs) !==  typeof(Function)) || (typeof(requirejs.config) !== typeof(Function))) {\n",
       "    var script = document.createElement(\"script\");\n",
       "    script.setAttribute(\"charset\", \"utf-8\");\n",
       "    script.setAttribute(\"src\", \"https://cdnjs.cloudflare.com/ajax/libs/require.js/2.3.6/require.min.js\");\n",
       "    script.onload = function(){\n",
       "        renderPlotly_d93361179aa14eefab0955d973e01c90();\n",
       "    };\n",
       "    document.getElementsByTagName(\"head\")[0].appendChild(script);\n",
       "}\n",
       "else {\n",
       "    renderPlotly_d93361179aa14eefab0955d973e01c90();\n",
       "}\n",
       "</script></div>"
      ]
     },
     "metadata": {},
     "output_type": "display_data"
    }
   ],
   "source": [
    "// 2nd eval usefulness 3 agrees LPA2\n",
    "\n",
    "let resBP2 = [0;2;5;1]\n",
    "let resEP2 = [0;0;4;4]\n",
    "let resHP2 = [0;1;3;4]\n",
    "\n",
    "let usefulChart2 =\n",
    "    [0 .. 3]\n",
    "    |> List.map (fun i ->\n",
    "        let values = [resBP2.[i]; resEP2.[i]; resHP2.[i]]\n",
    "        let data = List.zip (List.rev prompts) (List.rev values)\n",
    "        Chart.Bar(\n",
    "            keysValues = data,\n",
    "            Name = metrics.[i],\n",
    "            MarkerColor = Color.fromString colors.[i]\n",
    "        )\n",
    "        \n",
    "    )\n",
    "    |> Chart.combine //color \"#e0e0e0\"\n",
    "    |> Chart.withLayoutStyle(BarMode = BarMode.Stack, PaperBGColor = Color.fromString(\"White\"), PlotBGColor = Color.fromString(\"White\"))\n",
    "    |> Chart.withXAxisStyle(MinMax = (0 , 8), ShowGrid = false, GridColor = Color.fromString(\"White\"))\n",
    "    |> Chart.withYAxisStyle(ShowGrid = false, GridColor = Color.fromString(\"White\"))\n",
    "    |> Chart.withTitle(Title.init(Text = \"Overall Usefulness per Prompt\", Font = Font.init(Size = 30),X = 0.4, XAnchor = XAnchorPosition.Right))\n",
    "    |> Chart.withLegend(LayoutObjects.Legend.init(Orientation = Orientation.Horizontal, X = 0.5, XAnchor = XAnchorPosition.Center, Y = 1,YAnchor = YAnchorPosition.Bottom, TraceOrder = TraceOrder.Normal))\n",
    "    |> Chart.withSize(1200,500)\n",
    "\n",
    "usefulChart2"
   ]
  },
  {
   "cell_type": "code",
   "execution_count": 154,
   "id": "6b052244",
   "metadata": {
    "language_info": {
     "name": "polyglot-notebook"
    },
    "polyglot_notebook": {
     "kernelName": "fsharp"
    }
   },
   "outputs": [
    {
     "data": {
      "text/html": [
       "<details open=\"open\" class=\"dni-treeview\"><summary><span class=\"dni-code-hint\"><code>(\\n    Relevance pValues: [0.7637988635063372; 0.4998774141083544; 0.3497684180646332]\\n    Coherence pValues: [0.6419792418874009; 1; 0.6419792418874009]\\n    Factual Consistency pValues: [0.928852731105513; 0.7265964443552055; 0.7637988635063372]\\n    Fluency pValues: [0.6419792418873995; 0.641979...</code></span></summary><div><table><thead><tr></tr></thead><tbody><tr><td>Item1</td><td><div class=\"dni-plaintext\"><pre>\n",
       "    Relevance pValues: [0.7637988635063372; 0.4998774141083544; 0.3497684180646332]\n",
       "    Coherence pValues: [0.6419792418874009; 1; 0.6419792418874009]\n",
       "    Factual Consistency pValues: [0.928852731105513; 0.7265964443552055; 0.7637988635063372]\n",
       "    Fluency pValues: [0.6419792418873995; 0.6419792418874009; 0.41543954004821515]\n",
       "    </pre></div></td></tr><tr><td>Item2</td><td><div class=\"dni-plaintext\"><pre>\n",
       "    Relevance pValues: [0.3718632163598864; 0.10869886668073529; 0.3503914791841837]\n",
       "    Coherence pValues: [0.8533719196311086; 0.3830096470939707; 0.30840722079260585]\n",
       "    Factual Consistency pValues: [0.35933853344999356; 0.2512868877414969; 0.7715680770174497]\n",
       "    Fluency pValues: [0.8087077322432732; 1; 0.8087077322432732]\n",
       "    </pre></div></td></tr></tbody></table></div></details><style>\r\n",
       ".dni-code-hint {\r\n",
       "    font-style: italic;\r\n",
       "    overflow: hidden;\r\n",
       "    white-space: nowrap;\r\n",
       "}\r\n",
       ".dni-treeview {\r\n",
       "    white-space: nowrap;\r\n",
       "}\r\n",
       ".dni-treeview td {\r\n",
       "    vertical-align: top;\r\n",
       "    text-align: start;\r\n",
       "}\r\n",
       "details.dni-treeview {\r\n",
       "    padding-left: 1em;\r\n",
       "}\r\n",
       "table td {\r\n",
       "    text-align: start;\r\n",
       "}\r\n",
       "table tr { \r\n",
       "    vertical-align: top; \r\n",
       "    margin: 0em 0px;\r\n",
       "}\r\n",
       "table tr td pre \r\n",
       "{ \r\n",
       "    vertical-align: top !important; \r\n",
       "    margin: 0em 0px !important;\r\n",
       "} \r\n",
       "table th {\r\n",
       "    text-align: start;\r\n",
       "}\r\n",
       "</style>"
      ]
     },
     "metadata": {},
     "output_type": "display_data"
    }
   ],
   "source": [
    "//t-test\n",
    "open FSharp.Stats\n",
    "open FSharp.Stats.Testing\n",
    "let sample1 = relevanceEP |> vector\n",
    "let sample2 = relevanceHP |> vector\n",
    "\n",
    "// let twoway = TTest.twoSample true sample1 sample2 \n",
    "\n",
    "let performTTest x y =\n",
    "    try\n",
    "        let res = \n",
    "            Testing.TTest.twoSample true x y\n",
    "        res.PValue\n",
    "    with \n",
    "    | _ -> 0.0 \n",
    "performTTest sample1 sample2\n",
    "\n",
    "let perfromTTestperMetric (valBP:list<float>) (valEP:list<float>) (valHP:list<float>) =\n",
    "    [\n",
    "        performTTest (valBP |> vector) (valEP |> vector)\n",
    "        performTTest (valBP |> vector) (valHP |> vector)\n",
    "        performTTest (valEP |> vector) (valHP |> vector)\n",
    "    ]\n",
    "\n",
    "let resMaintainer =\n",
    "    $\"\n",
    "    Relevance pValues: {perfromTTestperMetric relevanceBP relevanceEP relevanceHP}\n",
    "    Coherence pValues: {perfromTTestperMetric coherenceBP coherenceEP coherenceHP}\n",
    "    Factual Consistency pValues: {perfromTTestperMetric facConBP facConEP facConHP}\n",
    "    Fluency pValues: {perfromTTestperMetric fluencyBP fluencyEP fluencyHP}\n",
    "    \"\n",
    "\n",
    "let resSecondEval =\n",
    "    $\"\n",
    "    Relevance pValues: {perfromTTestperMetric relevanceBP2 relevanceEP2 relevanceHP2}\n",
    "    Coherence pValues: {perfromTTestperMetric coherenceBP2 coherenceEP2 coherenceHP2}\n",
    "    Factual Consistency pValues: {perfromTTestperMetric facConBP2 facConEP2 facConHP2}\n",
    "    Fluency pValues: {perfromTTestperMetric fluencyBP2 fluencyEP2 fluencyHP2}\n",
    "    \"\n",
    "\n",
    "resMaintainer, resSecondEval"
   ]
  }
 ],
 "metadata": {
  "kernelspec": {
   "display_name": ".NET (C#)",
   "language": "C#",
   "name": ".net-csharp"
  },
  "language_info": {
   "name": "polyglot-notebook"
  },
  "polyglot_notebook": {
   "kernelInfo": {
    "defaultKernelName": "csharp",
    "items": [
     {
      "aliases": [],
      "name": "csharp"
     },
     {
      "aliases": [],
      "languageName": "fsharp",
      "name": "fsharp"
     }
    ]
   }
  }
 },
 "nbformat": 4,
 "nbformat_minor": 5
}
